{
 "cells": [
  {
   "cell_type": "markdown",
   "id": "d99e6272",
   "metadata": {},
   "source": [
    "# Enunciados - Mundo 1\n",
    "\n",
    "### 001 - Deixando tudo pronto\n",
    "  Crie um programa que escreva \"Olá mundo\" na tela\n",
    "\n",
    "### 002 - Respondendo ao usuário\n",
    "  Crie um script Python que leia o nome de uma pessoa e mostre uma mensagem de boas-vindas de acordo com o valor digitado\n",
    "\n",
    "### 003 - Somando dois números\n",
    "  Crie um script Python que leia dois números e tente mostrar a soma entre eles\n",
    "\n",
    "### 004 - Dissecando uma variável\n",
    "  Faça um programa que leia algo pelo teclado e mostre na tela o seu tipo primitivo e todas as informações possíveis sobre ele\n",
    "\n",
    "### 005 - Antecessor e sucessor\n",
    "  Faça um programa que leia um número inteiro e mostre na tela o seu sucessor e seu antecessor\n",
    "\n",
    "### 006 - Dobro, triplo e raiz quadrada\n",
    "  Crie um algoritmo que leia um número e mostre o seu dobro, o seu triplo e sua raiz quadrada\n",
    "\n",
    "### 007 - Média aritmética\n",
    "  Desenvolva um programa que leia as duas notas de um aluno, calcule e mostre a sua média\n",
    "\n",
    "### 008 - Conversor de medidas\n",
    "  Escreva um programa que leia um valor em metros e o exiba convertido em centímetros e milímetros\n",
    "\n",
    "### 009 - Tabuada\n",
    "  Faça um programa que leia um número inteiro qualquer e mostre na tela a sua tabuada\n",
    "\n",
    "### 010 - Conversor de moedas\n",
    "  Crie um programa que leia quanto dinheiro uma pessoa tem na carteira e mostre quantos dólares ela pode comprar"
   ]
  },
  {
   "cell_type": "code",
   "execution_count": null,
   "id": "14d0bd0e",
   "metadata": {},
   "outputs": [
    {
     "name": "stdout",
     "output_type": "stream",
     "text": [
      "Hello, world!\n"
     ]
    }
   ],
   "source": [
    "#001\n",
    "\n",
    "print('Hello, world!')"
   ]
  },
  {
   "cell_type": "code",
   "execution_count": null,
   "id": "9fbad448",
   "metadata": {},
   "outputs": [
    {
     "name": "stdout",
     "output_type": "stream",
     "text": [
      "Olá, livia, seja bem-vinde!\n"
     ]
    }
   ],
   "source": [
    "#002\n",
    "\n",
    "nome = input('Qual é o seu nome? ')\n",
    "print(f'Olá, {nome}, seja bem-vinde!')"
   ]
  },
  {
   "cell_type": "code",
   "execution_count": null,
   "id": "d80954c8",
   "metadata": {},
   "outputs": [
    {
     "name": "stdout",
     "output_type": "stream",
     "text": [
      "A soma entre 1.5 e 4.7 é igual a 6.2\n"
     ]
    }
   ],
   "source": [
    "#003\n",
    "\n",
    "numero1 = float(input('Escolha um número: '))\n",
    "numero2 = float(input('Escolha outro número: '))\n",
    "soma = numero1 + numero2\n",
    "print(f'A soma entre {numero1} e {numero2} vale {soma}')"
   ]
  },
  {
   "cell_type": "code",
   "execution_count": null,
   "id": "58fa8357",
   "metadata": {},
   "outputs": [
    {
     "name": "stdout",
     "output_type": "stream",
     "text": [
      "O tipo dessa variável é: <class 'str'>\n",
      "<built-in method islower of str object at 0x1052808b0>\n"
     ]
    }
   ],
   "source": [
    "#004 com Regex\n",
    "\n",
    "import re\n",
    "\n",
    "entrada = input('Digite algo: ')\n",
    "\n",
    "if re.match('^\\d+$', entrada):\n",
    "    entrada = int(entrada)\n",
    "elif re.match('^\\d+\\.\\d+$', entrada):\n",
    "    entrada = float(entrada)\n",
    "\n",
    "print('O tipo dessa variável é:', type(entrada))"
   ]
  },
  {
   "cell_type": "code",
   "execution_count": null,
   "id": "8b7df9ca",
   "metadata": {},
   "outputs": [
    {
     "name": "stdout",
     "output_type": "stream",
     "text": [
      "O sucessor e antecessor do número 10 são, respectavamente, 11 e 9\n"
     ]
    }
   ],
   "source": [
    "#005\n",
    "\n",
    "numero = int(input('Digite um número: '))\n",
    "sucessor = numero + 1\n",
    "antecessor = numero - 1\n",
    "print(f'O sucessor e antecessor do número {numero} são, respectavamente, {sucessor} e {antecessor}')"
   ]
  },
  {
   "cell_type": "code",
   "execution_count": null,
   "id": "879e22f5",
   "metadata": {},
   "outputs": [
    {
     "name": "stdout",
     "output_type": "stream",
     "text": [
      "Número original: 25 \n",
      "Dobro: 50 \n",
      "Triplo: 75 \n",
      "Raiz quadrada: 5.0\n"
     ]
    }
   ],
   "source": [
    "#006\n",
    "\n",
    "numero = int(input('Digite um valor: '))\n",
    "dobro = numero * 2\n",
    "triplo = numero * 3\n",
    "raiz = numero ** (1/2) # Também pode-se utilizar a função pow(), de sintaxe: pow(num, (1/2))\n",
    "\n",
    "print(f'Número original: {numero} \\nDobro: {dobro} \\nTriplo: {triplo} \\nRaiz quadrada: {raiz}')"
   ]
  },
  {
   "cell_type": "code",
   "execution_count": null,
   "id": "33b101a9",
   "metadata": {},
   "outputs": [
    {
     "name": "stdout",
     "output_type": "stream",
     "text": [
      "A média é: 7.5\n"
     ]
    }
   ],
   "source": [
    "#007\n",
    "\n",
    "nota1 = int(input('Insira sua primeira nota: '))\n",
    "nota2 =  int(input('Insira sua segunda nota: '))\n",
    "media = (nota1 + nota2) / 2\n",
    "\n",
    "print(f'A média é: {media}')"
   ]
  },
  {
   "cell_type": "code",
   "execution_count": null,
   "id": "4577d38b",
   "metadata": {},
   "outputs": [
    {
     "name": "stdout",
     "output_type": "stream",
     "text": [
      "Essa medida equivale a 100.0 centímetros e 1000.0 milímetros\n"
     ]
    }
   ],
   "source": [
    "#008\n",
    "\n",
    "metro = float(input('Digite um valor: '))\n",
    "cent = metro * 100\n",
    "mili = metro * 1000\n",
    "\n",
    "print(f'Essa medida equivale a {cent} centímetros e {mili} milímetros')"
   ]
  },
  {
   "cell_type": "code",
   "execution_count": 49,
   "id": "47043a7e",
   "metadata": {},
   "outputs": [
    {
     "name": "stdout",
     "output_type": "stream",
     "text": [
      "A tabuada do número 2 é:\n",
      "2 x 0 = 0\n",
      "2 x 1 = 2\n",
      "2 x 2 = 4\n",
      "2 x 3 = 6\n",
      "2 x 4 = 8\n",
      "2 x 5 = 10\n",
      "2 x 6 = 12\n",
      "2 x 7 = 14\n",
      "2 x 8 = 16\n",
      "2 x 9 = 18\n",
      "2 x 10 = 20\n"
     ]
    }
   ],
   "source": [
    "#009 Usando For e Range\n",
    "\n",
    "num = int(input('Digite um número inteiro: '))\n",
    "\n",
    "print(f'A tabuada do número {num} é:')\n",
    "for i in range(0, 11):\n",
    "    print(f'{num} x {i} = {num * i}')"
   ]
  },
  {
   "cell_type": "code",
   "execution_count": 51,
   "id": "8b122aae",
   "metadata": {},
   "outputs": [
    {
     "name": "stdout",
     "output_type": "stream",
     "text": [
      "Com 100.0 reais, você pode comprar 5.68 doláres ou 6.4 euros.\n"
     ]
    }
   ],
   "source": [
    "#010\n",
    "\n",
    "real = float(input('Quantos reais você tem? '))\n",
    "dol = 5.68\n",
    "euro = 6.40\n",
    "\n",
    "conv_dol = real / dol\n",
    "conv_euro = real / euro\n",
    "\n",
    "print(f'Com {real} reais, você pode comprar {dol} doláres ou {euro} euros.')\n",
    "            "
   ]
  }
 ],
 "metadata": {
  "kernelspec": {
   "display_name": "venv",
   "language": "python",
   "name": "python3"
  },
  "language_info": {
   "codemirror_mode": {
    "name": "ipython",
    "version": 3
   },
   "file_extension": ".py",
   "mimetype": "text/x-python",
   "name": "python",
   "nbconvert_exporter": "python",
   "pygments_lexer": "ipython3",
   "version": "3.11.4"
  }
 },
 "nbformat": 4,
 "nbformat_minor": 5
}
