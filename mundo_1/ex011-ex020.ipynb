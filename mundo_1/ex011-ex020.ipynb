{
 "cells": [
  {
   "cell_type": "markdown",
   "id": "69d20efe",
   "metadata": {},
   "source": [
    "### 011 - Pintando parede\n",
    "  Faça um programa que leia a largura e a algura de uma parede em metros, calcule a sua área e a quantidade de tinta necessária para pintá-la, sabendo que cada litro de tinta pinta uma área de 2m²\n",
    "\n",
    "### 012 - Calculando descontos\n",
    "  Faça um algoritmo que leia o preço de um produto e mostre seu novo preço, com 5% de desconto\n",
    "\n",
    "### 013 - Reajuste salarial\n",
    "  Faça um algoritmo que leia o salário de um funcionário e mostre seu novo salário, com 15% de aumento\n",
    "\n",
    "### 014 - Conversor de temperaturas\n",
    "  Conversor de temperaturas: escreva um programa que converta uma temperatura digitada em ºC para ºF\n",
    "\n",
    "### 015 - Aluguel de carros\n",
    "  Escreva um programa que pergunte a quantidade de Km percorridos por um carro alugado e a quantidade de dias pelos quais ele foi alugado. Calcule o preço a pagar, sabendo que o carro custa R$ 60 por dia e R$ 0.15 por km rodado\n",
    "\n",
    "### 016 - Quebrando um número\n",
    "  Crie um programa que leia um número real qualquer pelo teclado e mostre na tela a sua porção inteira\n",
    "\n",
    "### 017 - Catetos e hipotenusa\n",
    "  Faça um programa que leia o comprimento do cateto oposto (co) e do cateto adjacente (ca) de um triângulo retângulo, calcule e mostre o comprimento da hipotenusa\n",
    "\n",
    "### 018 - Seno, cosseno e tangente\n",
    "  Faça um programa que leia um ângulo qualquer e mostre na tela o valor do seno, cosseno e tangente desse ângulo\n",
    "\n",
    "### 019 - Sorteando um item na lista\n",
    "  Um professor quer sortear um dos seus quatro alunos para apagar o quadro. Faça um programa que ajude ele, lendo o nome deles e escrevendo o do escolhido\n",
    "\n",
    "### 020 - Sorteando uma ordem na lista\n",
    "  O mesmo professor do desafio anterior quer sortear a ordem de apresentação de trabalhos dos alunos. Faça um programa que leia o nome dos quatro alunos e mostre a ordem sorteada"
   ]
  },
  {
   "cell_type": "code",
   "execution_count": 4,
   "id": "df73bb4c",
   "metadata": {},
   "outputs": [
    {
     "name": "stdout",
     "output_type": "stream",
     "text": [
      "É necessário 5.0 litros de tinta para pintar uma área de 10.0 m2\n"
     ]
    }
   ],
   "source": [
    "#011\n",
    "\n",
    "largura = float(input('Insira a largura da parede: '))\n",
    "altura = float(input('Insira a altura da parede: '))\n",
    "area = largura * altura\n",
    "tinta = area/2\n",
    "\n",
    "print(f'É necessário {tinta} litros de tinta para pintar uma área de {area} m2')\n"
   ]
  },
  {
   "cell_type": "code",
   "execution_count": 9,
   "id": "2abde98d",
   "metadata": {},
   "outputs": [
    {
     "name": "stdout",
     "output_type": "stream",
     "text": [
      "O produto com 5% de desconto custa 9.5\n"
     ]
    }
   ],
   "source": [
    "#012\n",
    "\n",
    "valor = float(input('Digite o preço do produto: '))\n",
    "desconto = valor - (valor * 5 / 100)\n",
    "\n",
    "print(f'O produto com 5% de desconto custa {desconto}')"
   ]
  },
  {
   "cell_type": "code",
   "execution_count": null,
   "id": "50a9bdbc",
   "metadata": {},
   "outputs": [
    {
     "name": "stdout",
     "output_type": "stream",
     "text": [
      "Novo salário com aumento de 15%: R$2300.0\n"
     ]
    }
   ],
   "source": [
    "#013\n",
    "\n",
    "salario = float(input('Digite o seu salário: '))\n",
    "aumento = salario + (salario * 15 / 100)\n",
    "\n",
    "print(f'Novo salário com aumento de 15%: R${aumento}')"
   ]
  },
  {
   "cell_type": "code",
   "execution_count": null,
   "id": "60e7c586",
   "metadata": {},
   "outputs": [
    {
     "name": "stdout",
     "output_type": "stream",
     "text": [
      "30.0ºC equivalem a 86.0ºF\n"
     ]
    }
   ],
   "source": [
    "#014\n",
    "\n",
    "temp = float(input('Informe a temperatura em ºC: '))\n",
    "conversao = (temp * 1.8) + 32\n",
    "\n",
    "print(f'{temp}ºC equivalem a {conversao}ºF')"
   ]
  },
  {
   "cell_type": "code",
   "execution_count": null,
   "id": "b9d9fc8a",
   "metadata": {},
   "outputs": [
    {
     "name": "stdout",
     "output_type": "stream",
     "text": [
      "O preço a pagar por 5.0 dias de uso e 100.0 km percorridos pelo carro alugado é de R$315.0\n"
     ]
    }
   ],
   "source": [
    "#015\n",
    "\n",
    "km = float(input('Quantidade de km percorridos: '))\n",
    "dias = float(input('Quantidade de dias alugado: '))\n",
    "preco = (km * 0.15) + (dias * 60)\n",
    "\n",
    "print(f'O preço a pagar por {dias} dias de uso e {km} km percorridos pelo carro alugado é de R${preco}')"
   ]
  },
  {
   "cell_type": "code",
   "execution_count": null,
   "id": "8e73aba6",
   "metadata": {},
   "outputs": [
    {
     "name": "stdout",
     "output_type": "stream",
     "text": [
      "A parte inteira desse número é: 15\n"
     ]
    }
   ],
   "source": [
    "\n",
    "#016 \n",
    "\n",
    "from math import trunc\n",
    "\n",
    "real = float(input('Digite um número real: '))\n",
    "int = trunc(real) # Função da bibli math que trunca o número/remove a parte decimal (sem arredondar)\n",
    "\n",
    "print(f'A parte inteira desse número é: {int}')"
   ]
  },
  {
   "cell_type": "code",
   "execution_count": null,
   "id": "84b23654",
   "metadata": {},
   "outputs": [
    {
     "name": "stdout",
     "output_type": "stream",
     "text": [
      "Hipotenusa: 3.605551275463989\n"
     ]
    }
   ],
   "source": [
    "#017 \n",
    "\n",
    "from math import sqrt\n",
    "# from math import hypot\n",
    "\n",
    "oposto = float(input('Insira o tamanho do cateto oposto: '))\n",
    "adjacente = float(input('Insira o tamanho do cateto adjacente: '))\n",
    "\n",
    "hipotenusa = sqrt(oposto ** 2 + adjacente ** 2) # A função sqrt() (square root) retorna a raiz quadrada de um número\n",
    "# Ou\n",
    "# hipotenusa = hypot(oposto, adjacente)\n",
    "\n",
    "print(f'Hipotenusa: {hipotenusa}')\n"
   ]
  },
  {
   "cell_type": "code",
   "execution_count": null,
   "id": "46bc6140",
   "metadata": {},
   "outputs": [
    {
     "name": "stdout",
     "output_type": "stream",
     "text": [
      "Seno: 0.984807753012208 \n",
      "Cosseno:-0.1736481776669303 \n",
      "Tangente: -5.671281819617711\n"
     ]
    }
   ],
   "source": [
    "# 018 \n",
    "\n",
    "import math\n",
    "\n",
    "angulo = float(input('Escolha um ângulo: '))\n",
    "angulo_em_rad = math.radians(angulo)  # Converte para radianos\n",
    "\n",
    "seno = math.sin(angulo_em_rad)\n",
    "cosseno = math.cos(angulo_em_rad)\n",
    "tangente = math.tan(angulo_em_rad)\n",
    "\n",
    "print(f'Seno: {seno} \\nCosseno:{cosseno} \\nTangente: {tangente}')\n"
   ]
  },
  {
   "cell_type": "code",
   "execution_count": null,
   "id": "cbab7ff9",
   "metadata": {},
   "outputs": [
    {
     "name": "stdout",
     "output_type": "stream",
     "text": [
      "O aluno sorteado foi: ricardo\n"
     ]
    }
   ],
   "source": [
    "\n",
    "#019\n",
    "\n",
    "import random\n",
    "\n",
    "aluno1 = input('Digite o nome do primeiro aluno: ')\n",
    "aluno2 = input('Digite o nome do segundo aluno: ')\n",
    "aluno3 = input('Digite o nome do terceiro aluno: ')\n",
    "aluno4 = input('Digite o nome do quarto aluno: ')\n",
    "\n",
    "# Colocando os nomes em uma lista\n",
    "alunos = [aluno1, aluno2, aluno3, aluno4]\n",
    "\n",
    "sorteio = random.choice(alunos)\n",
    "\n",
    "print(f'O aluno sorteado foi: {sorteio}')"
   ]
  },
  {
   "cell_type": "code",
   "execution_count": null,
   "id": "5490a386",
   "metadata": {},
   "outputs": [
    {
     "name": "stdout",
     "output_type": "stream",
     "text": [
      "Ordem de apresentação dos trabalhos: \n",
      "1. livia\n",
      "2. carol\n",
      "3. clarissa\n",
      "4. annis\n"
     ]
    }
   ],
   "source": [
    "\n",
    "#020 \n",
    "\n",
    "import random\n",
    "\n",
    "aluno1 = input('Digite o nome do primeiro aluno: ')\n",
    "aluno2 = input('Digite o nome do segundo aluno: ')\n",
    "aluno3 = input('Digite o nome do terceiro aluno: ')\n",
    "aluno4 = input('Digite o nome do quarto aluno: ')\n",
    "\n",
    "# Colocando os nomes em uma lista\n",
    "alunos = [aluno1, aluno2, aluno3, aluno4]\n",
    "\n",
    "# Embaralhando a ordem dos alunos\n",
    "random.shuffle(alunos)\n",
    "\n",
    "print(f'Ordem de apresentação dos trabalhos: ')\n",
    "for i, aluno in enumerate(alunos, 1):\n",
    "    print(f\"{i}. {aluno}\")\n",
    "# Ou\n",
    "# print(\"A ordem sorteada é:\")\n",
    "# print(f\"1. {alunos[0]}\")\n",
    "# print(f\"2. {alunos[1]}\")\n",
    "# print(f\"3. {alunos[2]}\")\n",
    "# print(f\"4. {alunos[3]}\")"
   ]
  }
 ],
 "metadata": {
  "kernelspec": {
   "display_name": "venv",
   "language": "python",
   "name": "python3"
  },
  "language_info": {
   "codemirror_mode": {
    "name": "ipython",
    "version": 3
   },
   "file_extension": ".py",
   "mimetype": "text/x-python",
   "name": "python",
   "nbconvert_exporter": "python",
   "pygments_lexer": "ipython3",
   "version": "3.11.4"
  }
 },
 "nbformat": 4,
 "nbformat_minor": 5
}
