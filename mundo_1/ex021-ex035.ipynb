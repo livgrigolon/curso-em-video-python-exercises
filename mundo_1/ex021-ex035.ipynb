{
 "cells": [
  {
   "cell_type": "markdown",
   "id": "88bfa6c8",
   "metadata": {},
   "source": [
    "### 021 - Tocando um MP3\n",
    "  Faça um programa que abra e reproduza um arquivo mp3\n",
    "\n",
    "### 022 - Analisador de textos\n",
    "  Crie um programa que leia o nome completo de uma pessoa e mostre: em letras maiúsculas, minúsculas, a quantidade de letras sem espaço, e quantas letras tem o primeiro nome\n",
    "\n",
    "### 023 - Separando dígitos de um número\n",
    "  Faça um programa que leia um número de 0 a 9999 e mostre na tela cada um dos dígitos separados\n",
    "\n",
    "### 024 - Verificando as primeiras letras de um texto\n",
    "  Crie um programa que leia o nome de uma cidade e diga se ela começa ou não com a palavra \"Santo\"\n",
    "\n",
    "### 025 - Procurando uma string dentro de outra\n",
    "  Crie um programa que leia o nome de uma pessoa e diga se ela tem \"Silva\" no nome\n",
    "\n",
    "### 026 - Primeira e última ocorrência de uma string\n",
    "  Faça um programa que leia uma frase qualquer e mostre: quantas vezes aparece a letra \"a\", em que posição ela aparece a primeira vez em que posição ela aparece a última vez\n",
    "\n",
    "### 027 - Primeiro e último nome de uma pessoa\n",
    "  Faça um programa que leia o nome completo de uma pessoa, mostrando em seguida o primeiro e o último nome separadamente\n",
    "\n",
    "### 028 - Jogo da Adivinhação v1.0\n",
    "  Escreva um programa que faça o computador \"pensar\" em um número inteiro entre 0 e 5 e peça para o usuário tentar descobrir qual foi o número escolhido pelo computador. O programa deverá escrever na tela se o usuário venceu ou perdeu\n",
    "\n",
    "### 029 - Radar eletrônico\n",
    "  Escreva um programa que leia a velocidade de um carro. Se ele ultrapassar 80km/h, mostre uma mensagem dizendo que ele foi muåçltado. A multa vai custar R$7,00 por cada Km acima do limite. \n",
    "\n",
    "### 030 - Par ou ímpar?\n",
    "  Crie um programa que leia um número inteiro e mostre na tela se ele é PAR ou ÍMPAR\n",
    "\n",
    "### 031 - Custo da viagem\n",
    "  Desenvolva um programa que pergunte a distância de uma viagem em Km. Calcule o preço da passagem, cobrando R$ 0,50 por Km para viagens de até 200km e R$ 0,45 para viagens mais longas\n",
    "\n",
    "### 032 - Ano bissexto\n",
    "  Faça um programa que leia um ano qualquer e mostre se ele é BISSEXTO\n",
    "\n",
    "### 033 - Maior e menor valores\n",
    "  Faça um programa que leia três números e mostre qual é o maior e qual é o menor\n",
    "\n",
    "### 034 - Aumentos múltiplos\n",
    "  Escreva um programa que pergunte o salário de um funcionário e calcule o valor do seu aumento. Para salários superiores a R$ 1.250,00, calcule um aumento de 10%. Para os inferiores ou iguais, o aumento é de R$ 15%\n",
    "\n",
    "### 035 - Analisando triângulo v1.0\n",
    "  Desenvolva um programa que leia o comprimento de três retas e diga ao usuário se elas podem ou não formar um triângulo"
   ]
  },
  {
   "cell_type": "code",
   "execution_count": null,
   "id": "9f4cc807",
   "metadata": {},
   "outputs": [],
   "source": [
    "#021\n",
    "\n",
    "import pygame\n",
    "\n",
    "pygame.init()\n",
    "musica = pygame.mixer.music.load('ex021.mp3')\n",
    "pygame.mixer.music.play()\n",
    "input()\n",
    "pygame.event.wait()\n",
    "# pygame.mixer.music.stop() # Comando parar de tocar"
   ]
  },
  {
   "cell_type": "code",
   "execution_count": null,
   "id": "c40b0612",
   "metadata": {},
   "outputs": [
    {
     "name": "stdout",
     "output_type": "stream",
     "text": [
      "Letras maiúsculas: LIVIA GH MELLO\n",
      "Letras minúsculas: livia gh mello\n",
      "Letras sem espaço: 12\n",
      "Quantidade de letras no primeiro nome: 5\n"
     ]
    }
   ],
   "source": [
    "#022 \n",
    "\n",
    "nome = input('Insira seu nome completo: ')\n",
    "\n",
    "print(f'Letras maiúsculas: {nome.upper()}')\n",
    "print(f'Letras minúsculas: {nome.lower()}')\n",
    "print(f'Letras sem espaço: {len(nome.replace(\" \", \"\"))}')\n",
    "print( f'Quantidade de letras no primeiro nome: {len(nome.split()[0])}')"
   ]
  },
  {
   "cell_type": "code",
   "execution_count": 9,
   "id": "b4454a47",
   "metadata": {},
   "outputs": [
    {
     "name": "stdout",
     "output_type": "stream",
     "text": [
      "Milhares: 4 \n",
      "Centenas: 5 \n",
      "Dezenas: 7 \n",
      "Unidades: 6\n"
     ]
    }
   ],
   "source": [
    "#023\n",
    "\n",
    "num = int(input('Digite um número de 0 a 9999: '))\n",
    "mil = num // 1000\n",
    "cent = (num % 1000) // 100\n",
    "dez = (num % 100) // 10\n",
    "uni = num % 10\n",
    "\n",
    "print(f'Milhares: {mil} \\nCentenas: {cent} \\nDezenas: {dez} \\nUnidades: {uni}')"
   ]
  },
  {
   "cell_type": "code",
   "execution_count": null,
   "id": "f5b288fe",
   "metadata": {},
   "outputs": [
    {
     "name": "stdout",
     "output_type": "stream",
     "text": [
      "A cidade começa com 'Santo'.\n"
     ]
    }
   ],
   "source": [
    "#024 \n",
    "\n",
    "cidade = input('Insira o nome da cidade: ')\n",
    "\n",
    "if cidade.lower().startswith(\"santo\"):\n",
    "    print(\"A cidade começa com 'Santo'.\")\n",
    "else:\n",
    "    print(\"A cidade NÃO começa com 'Santo'.\")\n",
    "\n"
   ]
  },
  {
   "cell_type": "code",
   "execution_count": null,
   "id": "1ba51839",
   "metadata": {},
   "outputs": [
    {
     "name": "stdout",
     "output_type": "stream",
     "text": [
      "o nome contém 'Silva'.\n"
     ]
    }
   ],
   "source": [
    "\n",
    "#025\n",
    "\n",
    "nome = input('Digite seu nome: ')\n",
    "\n",
    "if \"silva\" in nome.lower():\n",
    "    print(\"o nome contém 'Silva'.\")\n",
    "else:\n",
    "    print(\"A cidade NÃO contém 'Silva'.\")"
   ]
  },
  {
   "cell_type": "code",
   "execution_count": null,
   "id": "3be95fb4",
   "metadata": {},
   "outputs": [
    {
     "name": "stdout",
     "output_type": "stream",
     "text": [
      "A letra 'a' aparece 3 vezes\n",
      "Ela aparece a primeira vez na posição: 3\n",
      "Ela aparece a última vez na posição: 17\n"
     ]
    }
   ],
   "source": [
    "#026 \n",
    "\n",
    "frase = input('Digite uma frase: ').strip().lower()\n",
    "\n",
    "print(f\"A letra 'a' aparece {frase.count('a')} vezes\")\n",
    "print(f\"Ela aparece a primeira vez na posição: {frase.find('a') + 1}\")\n",
    "print(f\"Ela aparece a última vez na posição: {frase.rfind('a') + 1}\")\n"
   ]
  },
  {
   "cell_type": "code",
   "execution_count": null,
   "id": "a25f0a52",
   "metadata": {},
   "outputs": [
    {
     "name": "stdout",
     "output_type": "stream",
     "text": [
      "Primeiro nome: livia \n",
      "Último nome: mello\n"
     ]
    }
   ],
   "source": [
    "#027\n",
    "\n",
    "nome = input('Digite seu nome: ').strip()\n",
    "nomes = nome.split()\n",
    "\n",
    "print(f'Primeiro nome: {nomes[0]} \\nÚltimo nome: {nomes[-1]}')\n"
   ]
  },
  {
   "cell_type": "code",
   "execution_count": null,
   "id": "60c9b7e6",
   "metadata": {},
   "outputs": [
    {
     "name": "stdout",
     "output_type": "stream",
     "text": [
      "Que pena! O número era 1. Você perdeu!\n"
     ]
    }
   ],
   "source": [
    "\n",
    "#028 \n",
    "\n",
    "import random\n",
    "\n",
    "num = random.randint(0,5)\n",
    "usuario = int(input('Tente adivinhar o número (entre 0 e 5): '))\n",
    "\n",
    "if usuario == num:\n",
    "    print('Parabéns! Você acertou!')\n",
    "else:\n",
    "    print(f'Que pena! O número era {num}. Você perdeu!')"
   ]
  },
  {
   "cell_type": "code",
   "execution_count": null,
   "id": "f896a64e",
   "metadata": {},
   "outputs": [
    {
     "name": "stdout",
     "output_type": "stream",
     "text": [
      "Você foi multado por excesso de velocidade. Pague R$7.0\n"
     ]
    }
   ],
   "source": [
    "#029 \n",
    "\n",
    "velocidade = float(input('Qual a velocidade do carro?'))\n",
    "\n",
    "if velocidade > 80:\n",
    "    print(f'Você foi multado por excesso de velocidade. Pague R${(velocidade - 80) * 7}')\n"
   ]
  },
  {
   "cell_type": "code",
   "execution_count": 34,
   "id": "3798f3a0",
   "metadata": {},
   "outputs": [
    {
     "name": "stdout",
     "output_type": "stream",
     "text": [
      "Número par\n"
     ]
    }
   ],
   "source": [
    "\n",
    "#030 \n",
    "\n",
    "num = int(input('Insira um número inteiro:'))\n",
    " \n",
    "if num % 2 == 0:\n",
    "    print('Número par')\n",
    "else:\n",
    "    print('Número ímpar')"
   ]
  },
  {
   "cell_type": "code",
   "execution_count": null,
   "id": "19ccd463",
   "metadata": {},
   "outputs": [
    {
     "name": "stdout",
     "output_type": "stream",
     "text": [
      "A passagem custa: R$108.00\n"
     ]
    }
   ],
   "source": [
    "#031\n",
    "\n",
    "distancia = float(input('Qual a distância percorrida?'))\n",
    "\n",
    "if distancia <= 200:\n",
    "    preco = distancia * 0.5\n",
    "else:\n",
    "    preco = distancia * 0.45\n",
    "\n",
    "print(f'A passagem custa: R${preco:.2f}')\n"
   ]
  },
  {
   "cell_type": "code",
   "execution_count": null,
   "id": "06306cf0",
   "metadata": {},
   "outputs": [
    {
     "name": "stdout",
     "output_type": "stream",
     "text": [
      "Não é um ano bissexto\n"
     ]
    }
   ],
   "source": [
    "#032\n",
    "\n",
    "ano = int(input('Digite um ano qualquer: '))\n",
    "\n",
    "# Ou\n",
    "# if (ano % 4 == 0 and ano % 100 != 0) or (ano % 400 == 0):\n",
    "if ano % 400 == 0:\n",
    "    print(f'O ano {ano} é BISSEXTO.')\n",
    "else:\n",
    "    print(f'O ano {ano} NÃO é bissexto.'))"
   ]
  },
  {
   "cell_type": "code",
   "execution_count": 46,
   "id": "5afdc404",
   "metadata": {},
   "outputs": [
    {
     "name": "stdout",
     "output_type": "stream",
     "text": [
      "Maior número: 8.0 \n",
      "Menor número: 3.0\n"
     ]
    }
   ],
   "source": [
    "\n",
    "#033\n",
    "\n",
    "num1 = float(input('Insira o primeiro número: '))\n",
    "num2 = float(input('Insira o segundo número: '))\n",
    "num3 = float(input('Insira o terceiro número: '))\n",
    "\n",
    "all_num = [num1, num2, num3]\n",
    "maior = max(all_num)\n",
    "menor = min(all_num)\n",
    "\n",
    "print(f'Maior número: {maior} \\nMenor número: {menor}')\n"
   ]
  },
  {
   "cell_type": "code",
   "execution_count": null,
   "id": "4be0e013",
   "metadata": {},
   "outputs": [
    {
     "name": "stdout",
     "output_type": "stream",
     "text": [
      "O novo salário com aumento será de R$ 1437.50\n"
     ]
    }
   ],
   "source": [
    "\n",
    "#034 \n",
    "\n",
    "salario = float(input('Insira o valor do salário: '))\n",
    "\n",
    "if salario > 1250:\n",
    "    aumento = salario + (salario * 10 / 100)\n",
    "    # Ou\n",
    "    # novo_salario = salario * 1.10\n",
    "else:\n",
    "    aumento = salario + (salario * 15 / 100)\n",
    "\n",
    "print(f'O novo salário com aumento será de R$ {aumento:.2f}')"
   ]
  },
  {
   "cell_type": "code",
   "execution_count": 56,
   "id": "26a6474f",
   "metadata": {},
   "outputs": [
    {
     "name": "stdout",
     "output_type": "stream",
     "text": [
      "As retas NÃO podem formar um triângulo.\n"
     ]
    }
   ],
   "source": [
    "\n",
    "#035 \n",
    "\n",
    "reta1 = float(input('Insira o valor da primeira reta: '))\n",
    "reta2 = float(input('Insira o valor da segunda reta: '))\n",
    "reta3 = float(input('Insira o valor da terceira reta: '))\n",
    "\n",
    "if reta1 + reta2 > reta3 and reta1 + reta3 > reta2 and reta2 + reta3 > reta1:\n",
    "    print(\"As retas podem formar um triângulo!\")\n",
    "else:\n",
    "    print(\"As retas NÃO podem formar um triângulo.\")"
   ]
  }
 ],
 "metadata": {
  "kernelspec": {
   "display_name": "venv",
   "language": "python",
   "name": "python3"
  },
  "language_info": {
   "codemirror_mode": {
    "name": "ipython",
    "version": 3
   },
   "file_extension": ".py",
   "mimetype": "text/x-python",
   "name": "python",
   "nbconvert_exporter": "python",
   "pygments_lexer": "ipython3",
   "version": "3.11.4"
  }
 },
 "nbformat": 4,
 "nbformat_minor": 5
}
