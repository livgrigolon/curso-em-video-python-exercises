{
 "cells": [
  {
   "cell_type": "markdown",
   "id": "ca772507",
   "metadata": {},
   "source": [
    "### 046 - Contagem de regressiva\n",
    "  Faça um programa que mostre na tela uma contagem regressiva para o estouro e fogos de artifício, indo de 10 até 0, com uma pausa de 1 segundo entre eles.\n",
    "\n",
    "### 047 - Contagem de pares\n",
    "  Crie um programa que mostre na tela todos os números pares que estão no intervalo entre 1 e 50\n",
    "\n",
    "### 048 - Soma ímpares múltiplos de três\n",
    "  Faça um programa que calcule a soma entre todos os números impares que são múltiplos de três (3) e que se encontram no intervalo de 1 até 500.\n",
    "\n",
    "### 049 - Tabuada v2.0\n",
    "  Refaça o desafio 009, mostrando a tabuada de um número que o usuário escolher, só que agora utilizando um laço for\n",
    "\n",
    "### 050 - Soma dos pares\n",
    "  Desenvolva um programa que leia seis números inteiros e mostre a soma apenas daqueles que forem pares. se o valor digitado for ímpar, desconsidere-o.\n",
    "\n",
    "### 051 - Progressão Aritmética\n",
    "  Desenvolva um programa que leia o primeiro termo e a razão de uma PA (Progressão Aritmética). No final, mostre os 10 primeiros termos dessa progressão.\n",
    "\n",
    "### 052 - Números primos\n",
    "  Faça um programa que leia um número inteiro e diga se ele é ou não um número primo\n",
    "\n",
    "### 053 - Detector de palíndromo\n",
    "  Crie um programa que leia uma frase qualquer e diga se ela é um palíndromo, desconsiderando os espaços\n",
    "\n",
    "### 054 - Grupo da maioridade\n",
    "  Crie um programa que leia o ano de nascimento de sete pessoas\n",
    "No final, mostre quantas pessoas ainda não atingiram a maioridade e quantas já são maiores\n",
    "\n",
    "### 055 - Maior e menor da sequência\n",
    "  Faça um programa que leia o peso de cinco pessoas e, no final, mostre qual foi o maior e o menor peso lidos\n",
    "\n",
    "### 056 - Analisador completo\n",
    "  Desenvolva um programa que leia nome, idade e sexo de 4 pessoas. No final do programa, mostre:  \n",
    " - A média de idade do grupo  \n",
    " - Qual é o nome do homem mais velho  \n",
    " - Quantas mulheres têm menos de 20 anos  "
   ]
  },
  {
   "cell_type": "code",
   "execution_count": null,
   "id": "3ec79130",
   "metadata": {},
   "outputs": [
    {
     "name": "stdout",
     "output_type": "stream",
     "text": [
      "10\n",
      "9\n",
      "8\n",
      "7\n",
      "6\n",
      "5\n",
      "4\n",
      "3\n",
      "2\n",
      "1\n",
      "0\n",
      "BUM! 💥 Fogos de artifício!\n"
     ]
    }
   ],
   "source": [
    "#046 - Contagem de regressiva\n",
    "\n",
    "import time\n",
    "\n",
    "for i in range(10, -1, -1):  # Começa em 10, vai até 0 (por isso o -1 no final)\n",
    "    print(i)\n",
    "    time.sleep(1)  # Pausa de 1 segundo\n",
    "print('BUM! 💥 Fogos de artifício!')\n",
    "\n"
   ]
  },
  {
   "cell_type": "code",
   "execution_count": null,
   "id": "1f8b5adf",
   "metadata": {},
   "outputs": [
    {
     "name": "stdout",
     "output_type": "stream",
     "text": [
      "2\n",
      "4\n",
      "6\n",
      "8\n",
      "10\n",
      "12\n",
      "14\n",
      "16\n",
      "18\n",
      "20\n",
      "22\n",
      "24\n",
      "26\n",
      "28\n",
      "30\n",
      "32\n",
      "34\n",
      "36\n",
      "38\n",
      "40\n",
      "42\n",
      "44\n",
      "46\n",
      "48\n",
      "50\n"
     ]
    }
   ],
   "source": [
    "\n",
    "#047 - Contagem de pares\n",
    "\n",
    "for i in range(1, 51):\n",
    "    if i % 2 == 0:\n",
    "        print(i)"
   ]
  },
  {
   "cell_type": "code",
   "execution_count": null,
   "id": "fc244a94",
   "metadata": {},
   "outputs": [
    {
     "name": "stdout",
     "output_type": "stream",
     "text": [
      "Soma dos números ímpares múltiplos de 3 entre 1 e 500: 20667\n"
     ]
    }
   ],
   "source": [
    "\n",
    "#048 - Soma ímpares múltiplos de três\n",
    "\n",
    "soma = 0\n",
    "for i in range(1, 501): # Ou: for i in range(1, 501, 2):  # Só ímpares\n",
    "    if i % 2 != 0 and i % 3 == 0:\n",
    "        soma += i    \n",
    "print(f'Soma dos números ímpares múltiplos de 3 entre 1 e 500: {soma}')\n"
   ]
  },
  {
   "cell_type": "code",
   "execution_count": null,
   "id": "424cf48a",
   "metadata": {},
   "outputs": [
    {
     "name": "stdout",
     "output_type": "stream",
     "text": [
      "A tabuada do número 2 é:\n",
      "2 x 0 = 0\n",
      "2 x 1 = 2\n",
      "2 x 2 = 4\n",
      "2 x 3 = 6\n",
      "2 x 4 = 8\n",
      "2 x 5 = 10\n",
      "2 x 6 = 12\n",
      "2 x 7 = 14\n",
      "2 x 8 = 16\n",
      "2 x 9 = 18\n",
      "2 x 10 = 20\n"
     ]
    }
   ],
   "source": [
    "#049 - Tabuada v2.0\n",
    "\n",
    "num = int(input('Digite um número inteiro: '))\n",
    "\n",
    "print(f'A tabuada do número {num} é:')\n",
    "\n",
    "for i in range(0, 11):\n",
    "    print(f'{num} x {i} = {num * i}') # Mostra a multiplicação do número escolhido (num) pelo contador (i)"
   ]
  },
  {
   "cell_type": "code",
   "execution_count": null,
   "id": "ace2511f",
   "metadata": {},
   "outputs": [
    {
     "name": "stdout",
     "output_type": "stream",
     "text": [
      "Os números pares digitados foram: [2, 2, 2, 2]\n",
      "A soma dos números pares digitados é: 8\n"
     ]
    }
   ],
   "source": [
    "\n",
    "#050 - Soma dos pares\n",
    "\n",
    "soma = 0\n",
    "pares = []  # Lista para armazenar os números pares\n",
    "\n",
    "for i in range(6):\n",
    "    num = int(input(f'Escolha o {i+1}º número: '))\n",
    "    if num % 2 == 0:\n",
    "        soma += num\n",
    "        pares.append(num)  # Guarda o número par na lista\n",
    "\n",
    "print(f'Os números pares digitados foram: {pares}')\n",
    "print(f'A soma dos números pares digitados é: {soma}')\n"
   ]
  },
  {
   "cell_type": "code",
   "execution_count": null,
   "id": "a8ffbc2e",
   "metadata": {},
   "outputs": [
    {
     "name": "stdout",
     "output_type": "stream",
     "text": [
      "\n",
      "Os 10 primeiros termos da PA são:\n",
      "2 5 8 11 14 17 20 23 26 29 "
     ]
    }
   ],
   "source": [
    "#051 - Progressão Aritmética\n",
    "\n",
    "a1 = int(input('Digite o primeiro termo da PA: '))\n",
    "r = int(input('Digite a razão da PA: '))\n",
    "\n",
    "print(f'\\nOs 10 primeiros termos da PA são:')\n",
    "for n in range(10):\n",
    "    an = a1 + (n * r)  # Fórmula da PA: a_n = a1 + (n - 1) * r\n",
    "    print(an, end=' ')\n"
   ]
  },
  {
   "cell_type": "code",
   "execution_count": 27,
   "id": "b2e3e9c7",
   "metadata": {},
   "outputs": [
    {
     "name": "stdout",
     "output_type": "stream",
     "text": [
      "O número 3 é um número primo.\n"
     ]
    }
   ],
   "source": [
    "#052 - Números primos\n",
    "\n",
    "num = int(input('Digite um número inteiro: '))\n",
    "\n",
    "if num <= 1:\n",
    "    print(f'O número {num} NÃO é um número primo.')\n",
    "else:\n",
    "    for i in range(2, num):\n",
    "        if num % i == 0:\n",
    "            print(f'O número {num} NÃO é um número primo.')\n",
    "            break\n",
    "    else:\n",
    "        print(f'O número {num} é um número primo.')\n"
   ]
  },
  {
   "cell_type": "code",
   "execution_count": null,
   "id": "cdf68b53",
   "metadata": {},
   "outputs": [
    {
     "name": "stdout",
     "output_type": "stream",
     "text": [
      "A frase é um palíndromo.\n"
     ]
    }
   ],
   "source": [
    "#053 - Detector de palíndromo\n",
    "\n",
    "frase = input('Escreva uma frase: ').replace(\" \", \"\").lower()\n",
    "\n",
    "# Verifica se a frase é igual à sua inversa\n",
    "if frase == frase[::-1]: # [::-1]: Inverte a string\n",
    "    print('A frase é um palíndromo.')\n",
    "else:\n",
    "    print('A frase NÃO é um palíndromo.')"
   ]
  },
  {
   "cell_type": "code",
   "execution_count": null,
   "id": "916f5017",
   "metadata": {},
   "outputs": [
    {
     "name": "stdout",
     "output_type": "stream",
     "text": [
      "\n",
      "Número de pessoas maiores de idade: 4\n",
      "Número de pessoas menores de idade: 3\n"
     ]
    }
   ],
   "source": [
    "\n",
    "#054 - Grupo da maioridade\n",
    "\n",
    "from datetime import date\n",
    "\n",
    "maiores = 0\n",
    "menores = 0\n",
    "\n",
    "for i in range(7):\n",
    "    ano = int(input(f'Informe o {i+1}º ano de nascimento: '))\n",
    "    idade = date.today().year - ano  # Calcula a idade\n",
    "    if idade >= 18:\n",
    "        maiores += 1\n",
    "    else:\n",
    "        menores += 1\n",
    "\n",
    "print(f'\\nNúmero de pessoas maiores de idade: {maiores}')\n",
    "print(f'Número de pessoas menores de idade: {menores}')"
   ]
  },
  {
   "cell_type": "code",
   "execution_count": null,
   "id": "708dc79c",
   "metadata": {},
   "outputs": [],
   "source": [
    "\n",
    "#055 - Maior e menor da sequência\n",
    "\n",
    "pesos = []\n",
    "\n",
    "for i in range(5):\n",
    "    peso = float(input(f'Informe o peso da {i+1}ª pessoa: '))\n",
    "    pesos.append(peso)\n",
    "\n",
    "maior_peso = max(pesos)\n",
    "menor_peso = min(pesos)\n",
    "\n",
    "print(f'\\nO maior peso é: {maior_peso}kg')\n",
    "print(f'O menor peso é: {menor_peso}kg')"
   ]
  },
  {
   "cell_type": "code",
   "execution_count": 31,
   "id": "98ff1373",
   "metadata": {},
   "outputs": [
    {
     "name": "stdout",
     "output_type": "stream",
     "text": [
      "Média de idade: 27.25\n",
      "O homem mais velho é: Lucas\n",
      "Mulheres com menos de 20 anos: 0\n"
     ]
    }
   ],
   "source": [
    "\n",
    "#056 - Analisador completo\n",
    "\n",
    "soma_idades = 0\n",
    "homem_mais_velho = \"\"\n",
    "idade_homem_mais_velho = 0\n",
    "mulheres_menor_20 = 0\n",
    "\n",
    "for i in range(4):\n",
    "    nome = input(f'Nome da {i+1}ª pessoa: ')\n",
    "    idade = int(input(f'Idade de {nome}: '))\n",
    "    sexo = input(f'Sexo de {nome} (M/F): ').strip().lower()\n",
    "    \n",
    "    soma_idades += idade\n",
    "    \n",
    "    if sexo == 'm' and idade > idade_homem_mais_velho:\n",
    "        idade_homem_mais_velho = idade\n",
    "        homem_mais_velho = nome\n",
    "    \n",
    "    if sexo == 'f' and idade < 20:\n",
    "        mulheres_menor_20 += 1\n",
    "\n",
    "# Exibição dos resultados\n",
    "print(f'Média de idade: {soma_idades / 4:.2f}')\n",
    "print(f'O homem mais velho é: {homem_mais_velho}')\n",
    "print(f'Mulheres com menos de 20 anos: {mulheres_menor_20}')"
   ]
  }
 ],
 "metadata": {
  "kernelspec": {
   "display_name": "venv",
   "language": "python",
   "name": "python3"
  },
  "language_info": {
   "codemirror_mode": {
    "name": "ipython",
    "version": 3
   },
   "file_extension": ".py",
   "mimetype": "text/x-python",
   "name": "python",
   "nbconvert_exporter": "python",
   "pygments_lexer": "ipython3",
   "version": "3.11.4"
  }
 },
 "nbformat": 4,
 "nbformat_minor": 5
}
