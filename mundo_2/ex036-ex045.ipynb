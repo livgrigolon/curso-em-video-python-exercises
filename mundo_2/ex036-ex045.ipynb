{
 "cells": [
  {
   "cell_type": "markdown",
   "id": "305cc861",
   "metadata": {},
   "source": [
    "### 036 - Aprovando Empréstimo\n",
    "  Escreva um programa para aprovar o empréstimo bancário para a compra de uma casa. O programa vai perguntar o valor da casa, o salário do comprador e em quantos anos ele vai pagar. Calcule o valor da prestação mensal, sabendo que ela não pode exceder 30% do salário ou então o empréstimo será negado\n",
    "\n",
    "### 037 - Conversor de Bases Numéricas \n",
    "  Escreva um programa que leia um número inteiro qualquer e peça para o usuário escolher qual será a base de conversão:  \n",
    "1. para binário  \n",
    "2. para octal  \n",
    "2. para hexadecimal  \n",
    "\n",
    "### 038 - Comparando números\n",
    "  Escreva um programa que leia dois números inteiros e compare-os, mostrando na tela uma mensagem:  \n",
    "- o primeiro valor é maior  \n",
    "- o segundo valor é maior  \n",
    "- não existe valor maior; os dois são iguais  \n",
    "\n",
    "### 039 - Alistamento Militar\n",
    "  Faça um programa que leia o ano de nascimento de um jovem e informe de acordo com sua idade:  \n",
    "- Se ele ainda vai se alistar ao serviço militar  \n",
    "- Se é a hora de se alistar  \n",
    "- Se já passou do tempo do alistamento  \n",
    "Seu programa também deverá mostrar o tempo que faltou ou que passou do prazo  \n",
    "\n",
    "### 040 - Aquele clássico da Média\n",
    "  Crie um programa que leia duas notas de um aluno e calcule sua média, mostrando uma mensagem no final, de acordo com a média atingida:  \n",
    "- média abaixo de 5.0: reprovado  \n",
    "- média entre 5.0 e 6,9: recuperação  \n",
    "- média 7.0 ou superior: aprovado  \n",
    "\n",
    "### 041 - Classificando Atletas\n",
    "  A Confederação Nacional de Natação precisa de um programa que leia o ano de nascimento de um atleta e mostre sua categoria, de acordo com a idade:  \n",
    "- até 9 anos: mirim  \n",
    "- até 14 anos: infantil  \n",
    "- até 19 anos: júnior  \n",
    "- até 20 anos: sênior  \n",
    "acima de 20: master  \n",
    "\n",
    "### 042 - Analisando Triângulos v2.0\n",
    "  Refaça o DESAFIO 35, dos triângulos, acrescentando o recurso de mostrar que tipo de triângulo será formado:  \n",
    "- equilátero: todos os lados iguais  \n",
    "- isósceles: dois lados iguais  \n",
    "- escaleno: todos os lados diferentes  \n",
    "\n",
    "### 043 - Índice de Massa Corporal\n",
    "  Desenvolva uma lógica que leia o peso e a altura de uma pessoa, calcule seu IMC e mostre seu status, e acordo com a tabela abaixo:  \n",
    "- abaixo de 18.5: abaixo do peso  \n",
    "- entre 18.5 e 25: peso ideal  \n",
    "- 25 até 30: sobrepeso  \n",
    "- 30 até 40: obesidade  \n",
    "- acima de 40: obesidade mórbida  \n",
    "\n",
    "### 044 - Gerenciador de Pagamentos\n",
    "  Elabore um programa que calcule o valor a ser pago por um produto, considerando o seu preço normal, e condição de pagamento:  \n",
    "- à vista dinheiro/cheque: 10% de desconto  \n",
    "- à vista no cartão: 5% de desconto  \n",
    "- em até 2x no cartão: preço normal  \n",
    "- em 3x ou mais no cartão: 20% de juros  \n",
    "\n",
    "### 045 - GAME: Pedra, Papel e Tesoura\n",
    "  Crie um programa que faça o computador jogar Jokenpô com você."
   ]
  },
  {
   "cell_type": "code",
   "execution_count": null,
   "id": "43b43ddb",
   "metadata": {},
   "outputs": [
    {
     "name": "stdout",
     "output_type": "stream",
     "text": [
      "Empréstimo aprovado! Prestação mensal: R$416.67\n"
     ]
    }
   ],
   "source": [
    "#036\n",
    "\n",
    "casa = float(input('Quanto custa a casa?'))\n",
    "salario = float(input('Quanto você recebe?'))\n",
    "anos = int(input('Em quantos anos você pretende pagar a casa?'))\n",
    "\n",
    "prestacao = casa / (anos * 12)\n",
    "\n",
    "\n",
    "if prestacao > (salario * 0.3):\n",
    "    print('Empréstimo negado, porque a prestação mensal da casa excede 30% do salário')\n",
    "else:\n",
    "    print(f'Empréstimo aprovado! Prestação mensal: R${prestacao:.2f}')"
   ]
  },
  {
   "cell_type": "code",
   "execution_count": null,
   "id": "9d20e607",
   "metadata": {},
   "outputs": [
    {
     "name": "stdout",
     "output_type": "stream",
     "text": [
      "Octal: 50\n"
     ]
    }
   ],
   "source": [
    "#037\n",
    "\n",
    "num = int(input('Insira um número inteiro: '))\n",
    "\n",
    "binario = 1\n",
    "octal = 2\n",
    "hexadecimal = 3\n",
    "\n",
    "base = int(input('Escolha uma base de conversão: \\n[1] Binário \\n[2] Octal \\n[3] Hexadecimal'))\n",
    "\n",
    "if base == 1:\n",
    "    print(f'Binário: {bin(num)[2:]}')\n",
    "elif base == 2:\n",
    "    print(f'Octal: {oct(num)[2:]}')\n",
    "elif base == 3:\n",
    "    print(f'Hexadecimal: {hex(num)[2:]}')\n",
    "else:\n",
    "    print(\"Opção inválida. Tente novamente.\")\n",
    "\n"
   ]
  },
  {
   "cell_type": "code",
   "execution_count": null,
   "id": "5267143a",
   "metadata": {},
   "outputs": [
    {
     "name": "stdout",
     "output_type": "stream",
     "text": [
      "O segundo valor é maior\n"
     ]
    }
   ],
   "source": [
    "\n",
    "#038 \n",
    "\n",
    "num1 = int(input('Insira um número inteiro: '))\n",
    "num2 = int(input('Insira outro número inteiro: '))\n",
    "\n",
    "if num1 > num2:\n",
    "    print('O primeiro valor é maior')\n",
    "elif num2 > num1:\n",
    "    print('O segundo valor é maior')\n",
    "else:\n",
    "    print(\"Não existe valor maior. Os dois são iguais.\")\n",
    "\n"
   ]
  },
  {
   "cell_type": "code",
   "execution_count": null,
   "id": "523b5c11",
   "metadata": {},
   "outputs": [
    {
     "name": "stdout",
     "output_type": "stream",
     "text": [
      "Você deveria ter se alistado ao serviço militar há 5 ano(s).\n"
     ]
    }
   ],
   "source": [
    "#039\n",
    "\n",
    "from datetime import date\n",
    "\n",
    "nascimento = int(input('Insira o ano de nascimento: '))\n",
    "ano_atual = date.today().year\n",
    "idade = ano_atual - nascimento\n",
    "\n",
    "if idade == 18:\n",
    "    print('É hora de se alistar ao serviço militar!')\n",
    "elif idade < 18:\n",
    "    print(f'Ainda faltam {18 - idade} ano(s) para você se alistar ao serviço militar.')\n",
    "else:\n",
    "    print(f'Você deveria ter se alistado ao serviço militar há {idade - 18} ano(s).')"
   ]
  },
  {
   "cell_type": "code",
   "execution_count": null,
   "id": "d7cf8a9f",
   "metadata": {},
   "outputs": [
    {
     "name": "stdout",
     "output_type": "stream",
     "text": [
      "Média 7.0 ou superior: aprovado  \n"
     ]
    }
   ],
   "source": [
    "#040\n",
    "\n",
    "nota1 = float(input('Insira a primeira nota: '))\n",
    "nota2 = float(input('Insira a segunda nota: '))\n",
    "media = (nota1 + nota2) / 2\n",
    "\n",
    "if media < 5:\n",
    "    print('Média abaixo de 5.0: reprovado')\n",
    "elif 5 <= media <= 6.9:\n",
    "    print('Média entre 5.0 e 6,9: recuperação')\n",
    "else:\n",
    "    print('Média 7.0 ou superior: aprovado  ')"
   ]
  },
  {
   "cell_type": "code",
   "execution_count": null,
   "id": "51f71711",
   "metadata": {},
   "outputs": [
    {
     "name": "stdout",
     "output_type": "stream",
     "text": [
      "Categoria: Mirim\n"
     ]
    }
   ],
   "source": [
    "#041\n",
    "\n",
    "from datetime import date\n",
    "\n",
    "nascimento = int(input('Insira o ano de nascimento: '))\n",
    "ano_atual = date.today().year\n",
    "idade = ano_atual - nascimento\n",
    "\n",
    "if idade <= 9:\n",
    "    print('Categoria: Mirim')\n",
    "elif 10 <= idade <= 14:\n",
    "    print('Categoria: Infantil')\n",
    "elif 15 <= idade <= 19:\n",
    "    print('Categoria: Júnior')\n",
    "elif idade == 20:\n",
    "    print('Categoria: Sênior')\n",
    "else:\n",
    "    print('Categoria: Master')"
   ]
  },
  {
   "cell_type": "code",
   "execution_count": null,
   "id": "9fb47840",
   "metadata": {},
   "outputs": [
    {
     "name": "stdout",
     "output_type": "stream",
     "text": [
      "As retas podem formar um triângulo!\n",
      "Será formado um triângulo equilátero\n"
     ]
    }
   ],
   "source": [
    "\n",
    "#042\n",
    "\n",
    "reta1 = float(input('Insira o valor da primeira reta: '))\n",
    "reta2 = float(input('Insira o valor da segunda reta: '))\n",
    "reta3 = float(input('Insira o valor da terceira reta: '))\n",
    "\n",
    "# Verificação se as retas podem formar um triângulo\n",
    "if reta1 + reta2 > reta3 and reta1 + reta3 > reta2 and reta2 + reta3 > reta1:\n",
    "    print(\"As retas podem formar um triângulo!\")\n",
    "    # Identificação do tipo de triângulo\n",
    "    if reta1 == reta2 == reta3:\n",
    "        print('Será formado um triângulo equilátero')\n",
    "    elif reta1 == reta2 or reta2 == reta3 or reta1 == reta3:\n",
    "        print('Será formado um triângulo isósceles')\n",
    "    else:\n",
    "        print('Será formado um triângulo escaleno')\n",
    "else:\n",
    "    print(\"As retas NÃO podem formar um triângulo.\")"
   ]
  },
  {
   "cell_type": "code",
   "execution_count": null,
   "id": "2acb92ed",
   "metadata": {},
   "outputs": [
    {
     "name": "stdout",
     "output_type": "stream",
     "text": [
      "Seu IMC é 24.09\n",
      "Situação: Peso ideal\n"
     ]
    }
   ],
   "source": [
    "#043\n",
    "\n",
    "peso = float(input('Insira seu peso (kg) para calcularmos seu IMC: '))\n",
    "altura = float(input('Agora sua altura (m): '))\n",
    "\n",
    "imc = peso / (altura ** 2)\n",
    "\n",
    "print(f'Seu IMC é {imc:.2f}')\n",
    "\n",
    "if imc < 18.5:\n",
    "    print('Situação: Abaixo do peso')\n",
    "elif imc < 25:\n",
    "    print('Situação: Peso ideal')\n",
    "elif imc < 30:\n",
    "    print('Situação: Sobrepeso')\n",
    "elif imc < 40:\n",
    "    print('Situação: Obesidade')\n",
    "else:\n",
    "    print('Situação: Obesidade mórbida')"
   ]
  },
  {
   "cell_type": "code",
   "execution_count": null,
   "id": "df2ff619",
   "metadata": {},
   "outputs": [
    {
     "name": "stdout",
     "output_type": "stream",
     "text": [
      "\n",
      "Escolha a forma de pagamento:\n",
      "[1] À vista dinheiro/cheque (10% de desconto)\n",
      "[2] À vista no cartão (5% de desconto)\n",
      "[3] Em até 2x no cartão (preço normal)\n",
      "[4] Em 3x ou mais no cartão (20% de juros)\n",
      "\n",
      "\n",
      "Compra em 3x de R$ 20.00 (com juros). Total: R$ 60.00\n"
     ]
    }
   ],
   "source": [
    "#044\n",
    "\n",
    "produto = float(input('Digite o valor do produto: R$ '))\n",
    "\n",
    "print('\\nEscolha a forma de pagamento:')\n",
    "print('[1] À vista dinheiro/cheque (10% de desconto)')\n",
    "print('[2] À vista no cartão (5% de desconto)')\n",
    "print('[3] Em até 2x no cartão (preço normal)')\n",
    "print('[4] Em 3x ou mais no cartão (20% de juros)\\n')\n",
    "\n",
    "opcao = int(input('Digite o número da opção escolhida: '))\n",
    "\n",
    "if opcao == 1:\n",
    "    total = produto * 0.90\n",
    "    print(f'\\nTotal com 10% de desconto: R$ {total:.2f}')\n",
    "elif opcao == 2:\n",
    "    total = produto * 0.95\n",
    "    print(f'\\nTotal com 5% de desconto: R$ {total:.2f}')\n",
    "elif opcao == 3:\n",
    "    parcela = produto / 2\n",
    "    print(f'\\nCompra em 2x de R$ {parcela:.2f} (sem juros). Total: R$ {produto:.2f}')\n",
    "elif opcao == 4:\n",
    "    parcelas = int(input('Digite o número de parcelas (3 ou mais): '))\n",
    "    if parcelas < 3:\n",
    "        print('\\nNúmero de parcelas inválido. Deve ser 3 ou mais.')\n",
    "    else:\n",
    "        total = produto * 1.20\n",
    "        valor_parcela = total / parcelas\n",
    "        print(f'\\nCompra em {parcelas}x de R$ {valor_parcela:.2f} (com juros). Total: R$ {total:.2f}')\n",
    "else:\n",
    "    print('\\nOpção inválida. Tente novamente.')\n"
   ]
  },
  {
   "cell_type": "code",
   "execution_count": null,
   "id": "fad5a5c6",
   "metadata": {},
   "outputs": [
    {
     "name": "stdout",
     "output_type": "stream",
     "text": [
      "Jogo: Pedra, Papel ou Tesoura\n",
      "[1] Pedra\n",
      "[2] Papel\n",
      "[3] Tesoura\n",
      "Você escolheu Papel\n",
      "Computador escolheu Pedra\n",
      "Você venceu!\n"
     ]
    }
   ],
   "source": [
    "#045\n",
    "\n",
    "import random\n",
    "\n",
    "print('Jogo: Pedra, Papel ou Tesoura')\n",
    "\n",
    "print('[1] Pedra')\n",
    "print('[2] Papel')\n",
    "print('[3] Tesoura')\n",
    "\n",
    "jogador = int(input('Escolha um número (1, 2 ou 3): '))\n",
    "computador = random.randint(1, 3)\n",
    "\n",
    "# Mostrar escolhas\n",
    "if jogador == 1:\n",
    "    print('Você escolheu Pedra')\n",
    "elif jogador == 2:\n",
    "    print('Você escolheu Papel')\n",
    "elif jogador == 3:\n",
    "    print('Você escolheu Tesoura')\n",
    "else:\n",
    "    print('Escolha inválida!')\n",
    "    exit()\n",
    "\n",
    "if computador == 1:\n",
    "    print('Computador escolheu Pedra')\n",
    "elif computador == 2:\n",
    "    print('Computador escolheu Papel')\n",
    "else:\n",
    "    print('Computador escolheu Tesoura')\n",
    "\n",
    "# Regras do jogo\n",
    "if jogador == computador:\n",
    "    print('Empate!')\n",
    "elif (jogador == 1 and computador == 3) or \\\n",
    "     (jogador == 2 and computador == 1) or \\\n",
    "     (jogador == 3 and computador == 2):\n",
    "    print('Você venceu!')\n",
    "else:\n",
    "    print('Você perdeu!')\n"
   ]
  }
 ],
 "metadata": {
  "kernelspec": {
   "display_name": "venv",
   "language": "python",
   "name": "python3"
  },
  "language_info": {
   "codemirror_mode": {
    "name": "ipython",
    "version": 3
   },
   "file_extension": ".py",
   "mimetype": "text/x-python",
   "name": "python",
   "nbconvert_exporter": "python",
   "pygments_lexer": "ipython3",
   "version": "3.11.4"
  }
 },
 "nbformat": 4,
 "nbformat_minor": 5
}
