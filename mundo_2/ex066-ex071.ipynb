{
 "cells": [
  {
   "cell_type": "markdown",
   "id": "c820d4ea",
   "metadata": {},
   "source": [
    "### 066 - Vários números com flag\n",
    "  Crie um programa que leia vários números inteiros pelo teclado. O programa só vai parar quando o usuário digitar o valor 999, que é a condição de parada.No final, mostre quantos números foram digitados e qual foi a soma entre eles (desconsiderando o flag!)\n",
    "\n",
    "### 067 - Tabuada v3.0\n",
    "  Faça um programa que mostre a tabuada de vários números, um de cada vez, para cada valor digitado pelo usuário. O programa será interrompido quando o número solicitado for negativo\n",
    "\n",
    "### 068 - Jogo do par ou ímpar\n",
    "  Faça um programa que jogue par ou ímpar com o computador. O jogo só será interrompido quando o jogador perder, mostrando o total de vitórias consecutivas que ele conquistou, no final do jogo.\n",
    "\n",
    "### 069 - Análise de dados do grupo\n",
    "  Crie um programa que leia a idade e o sexo de várias pessoas. A cada pessoa cadastrada, o programa deverá perguntar se o usuário quer ou não continuar. No final, mostra:  \n",
    "a) quantas pessoas têm mais de 18 anos  \n",
    "b) quantos homens foram cadastrados  \n",
    "c) quantas mulheres têm menos de 20 anos  \n",
    "\n",
    "### 070 - Estatística de produtos\n",
    "  Crie um programa que leia o nome e o preço de vários produtos. O programa deverá perguntar se o usuário vai continuar. No final, mostre:  \n",
    "a) qual é o total gasto na compra  \n",
    "b) quantos produtos custam mais de R$ 1000  \n",
    "c) qual é o nome do produto mais barato  \n",
    "\n",
    "### 071 - Simulador de caixa eletrônico\n",
    "  Crie um programa que simule o funcionamento de um caixa eletrônico. No início, pergunte ao usuário qual será o valor a ser sacado (inteiro) e o programa vai informar quantas cédulas de cada valor serão entregues. Obs.: Considere que o caixa possui cédulas de R$50, R$20, R$10 e R$1.\n"
   ]
  },
  {
   "cell_type": "code",
   "execution_count": 3,
   "id": "e3c88ddc",
   "metadata": {},
   "outputs": [
    {
     "name": "stdout",
     "output_type": "stream",
     "text": [
      "Você digitou 2 números e a soma entre eles foi 3000.\n"
     ]
    }
   ],
   "source": [
    "#066 Vários números com flag (com break)\n",
    "\n",
    "soma = 0\n",
    "quantidade = 0\n",
    "\n",
    "while True:\n",
    "    num = int(input('Insira um número inteiro [999 para parar]: '))\n",
    "    if num == 999:\n",
    "        break\n",
    "    soma += num\n",
    "    quantidade += 1\n",
    "\n",
    "print(f'Você digitou {quantidade} números e a soma entre eles foi {soma}.')"
   ]
  },
  {
   "cell_type": "code",
   "execution_count": null,
   "id": "b3fd6ebc",
   "metadata": {},
   "outputs": [
    {
     "name": "stdout",
     "output_type": "stream",
     "text": [
      "A tabuada do número 5 é:\n",
      "5 x 0 = 0\n",
      "5 x 1 = 5\n",
      "5 x 2 = 10\n",
      "5 x 3 = 15\n",
      "5 x 4 = 20\n",
      "5 x 5 = 25\n",
      "5 x 6 = 30\n",
      "5 x 7 = 35\n",
      "5 x 8 = 40\n",
      "5 x 9 = 45\n",
      "5 x 10 = 50\n",
      "--------------------\n"
     ]
    }
   ],
   "source": [
    "\n",
    "#067 - Tabuada v3.0\n",
    "\n",
    "while True:\n",
    "    num = int(input('Digite um número inteiro: '))\n",
    "    if num < 0:\n",
    "        break\n",
    "    print(f'A tabuada do número {num} é:')\n",
    "    for i in range(0, 11):\n",
    "        print(f'{num} x {i} = {num * i}')\n",
    "    print('-' * 20)\n"
   ]
  },
  {
   "cell_type": "code",
   "execution_count": null,
   "id": "c743f3d1",
   "metadata": {},
   "outputs": [
    {
     "name": "stdout",
     "output_type": "stream",
     "text": [
      "Você jogou 4 e o computador 1. Total = 5\n",
      "Você perdeu!\n",
      "Fim de jogo! Você venceu 0 vez(es).\n"
     ]
    }
   ],
   "source": [
    "#068 - Jogo do par ou ímpar\n",
    "\n",
    "import random\n",
    "\n",
    "vitorias = 0\n",
    "\n",
    "while True:\n",
    "    jogador = int(input('Digite um número: '))\n",
    "    escolha = input('Par ou Ímpar? [P/I]: ').strip().upper()\n",
    "\n",
    "    computador = random.randint(0, 10)\n",
    "    total = jogador + computador\n",
    "\n",
    "    print(f'Você jogou {jogador} e o computador {computador}. Total = {total}')\n",
    "\n",
    "    if total % 2 == 0:\n",
    "        resultado = 'P'\n",
    "    else:\n",
    "        resultado = 'I'\n",
    "\n",
    "    if escolha == resultado:\n",
    "        print('Você venceu!\\n')\n",
    "        vitorias += 1\n",
    "    else:\n",
    "        print('Você perdeu!')\n",
    "        break\n",
    "\n",
    "print(f'Fim de jogo! Você venceu {vitorias} vez(es).')"
   ]
  },
  {
   "cell_type": "code",
   "execution_count": null,
   "id": "514be564",
   "metadata": {},
   "outputs": [
    {
     "name": "stdout",
     "output_type": "stream",
     "text": [
      "Total de pessoas com mais de 18 anos: 3\n",
      "Total de homens cadastrados: 1\n",
      "Total de mulheres com menos de 20 anos: 1\n",
      "Encerrado!\n"
     ]
    }
   ],
   "source": [
    "#069 - Análise de dados do grupo\n",
    "\n",
    "maior_18 = 0\n",
    "qtd_homens = 0\n",
    "mulheres_menor_20 = 0\n",
    "\n",
    "while True:\n",
    "    idade = int(input('Idade: '))\n",
    "    sexo = input('Sexo [M/F]: ').strip().upper()\n",
    "\n",
    "    if idade >= 18:\n",
    "        maior_18 += 1\n",
    "\n",
    "    if sexo == 'M':\n",
    "        qtd_homens += 1\n",
    "\n",
    "    if sexo == 'F' and idade < 20:\n",
    "        mulheres_menor_20 += 1\n",
    "\n",
    "    continuar = input('Deseja continuar? [S/N]: ').strip().upper()\n",
    "    if continuar != 'S':\n",
    "        break\n",
    "\n",
    "print(f'Total de pessoas com mais de 18 anos: {maior_18}')\n",
    "print(f'Total de homens cadastrados: {qtd_homens}')\n",
    "print(f'Total de mulheres com menos de 20 anos: {mulheres_menor_20}')\n",
    "\n",
    "print('Encerrado!')"
   ]
  },
  {
   "cell_type": "code",
   "execution_count": 14,
   "id": "6eacddb0",
   "metadata": {},
   "outputs": [
    {
     "name": "stdout",
     "output_type": "stream",
     "text": [
      "Total gasto na compra: R$ 74.00\n",
      "Produtos que custam mais de R$1000: 0\n",
      "Produto mais barato: luva por R$ 4.00\n"
     ]
    }
   ],
   "source": [
    "#070 - Estatística de produtos\n",
    "\n",
    "total = 0\n",
    "mais_de_1000 = 0\n",
    "mais_barato = 0\n",
    "nome_mais_barato = ''\n",
    "contador = 0\n",
    "\n",
    "while True:\n",
    "    produto = str(input('Digite o nome do produto: '))\n",
    "    preco = float(input('Digite o preço do produto: R$ '))\n",
    "\n",
    "    total += preco\n",
    "    contador += 1\n",
    "\n",
    "    if preco > 1000:\n",
    "        mais_de_1000 += 1\n",
    "\n",
    "    if contador == 1 or preco < mais_barato:\n",
    "        mais_barato = preco\n",
    "        nome_mais_barato = produto\n",
    "\n",
    "    continuar = input('Deseja continuar? [S/N]: ').strip().upper()\n",
    "    if continuar != 'S':\n",
    "        break\n",
    "\n",
    "print(f'Total gasto na compra: R$ {total:.2f}')\n",
    "print(f'Produtos que custam mais de R$1000: {mais_de_1000}')\n",
    "print(f'Produto mais barato: {nome_mais_barato} por R$ {mais_barato:.2f}')"
   ]
  },
  {
   "cell_type": "code",
   "execution_count": null,
   "id": "87a9d1ce",
   "metadata": {},
   "outputs": [
    {
     "name": "stdout",
     "output_type": "stream",
     "text": [
      "Total de 1 cédula(s) de R$ 20\n",
      "Total de 5 cédula(s) de R$ 1\n"
     ]
    }
   ],
   "source": [
    "#071 - Simulador de caixa eletrônico\n",
    "\n",
    "valor = int(input('Qual valor você quer sacar? R$ '))\n",
    "cedula = 50\n",
    "total_cedulas = 0\n",
    "\n",
    "while valor > 0:\n",
    "    if valor >= cedula:\n",
    "        total_cedulas = valor // cedula\n",
    "        valor %= cedula\n",
    "        print(f'Total de {total_cedulas} cédula(s) de R$ {cedula}')\n",
    "    \n",
    "    if cedula == 50:\n",
    "        cedula = 20\n",
    "    elif cedula == 20:\n",
    "        cedula = 10\n",
    "    elif cedula == 10:\n",
    "        cedula = 1"
   ]
  }
 ],
 "metadata": {
  "kernelspec": {
   "display_name": "venv",
   "language": "python",
   "name": "python3"
  },
  "language_info": {
   "codemirror_mode": {
    "name": "ipython",
    "version": 3
   },
   "file_extension": ".py",
   "mimetype": "text/x-python",
   "name": "python",
   "nbconvert_exporter": "python",
   "pygments_lexer": "ipython3",
   "version": "3.11.4"
  }
 },
 "nbformat": 4,
 "nbformat_minor": 5
}
