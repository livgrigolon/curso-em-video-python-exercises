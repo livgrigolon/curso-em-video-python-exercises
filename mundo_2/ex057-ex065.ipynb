{
 "cells": [
  {
   "cell_type": "markdown",
   "id": "112cd43a",
   "metadata": {},
   "source": [
    "### 057 - Validação de dados\n",
    "  Faça um programa que leia o sexo de uma pessoa mas só aceite os valores \"M\" ou \"F\". Caso esteja errado, peça a digitação novamente até ter um valor correto.\n",
    "  \n",
    "### 058 - Jogo da adivinhação v2.0\n",
    "  Melhore o jogo do DESAFIO 028 onde o computador vai \"pensar\" em um número entre 0 e 10. Só que agora o jogador vai tentar adivinhar até acertar, mostrando no final quantos palpites foram necessários para vencer\n",
    "\n",
    "### 059 - Criando um menu de opções\n",
    "  Crie um programa que leia dois valores e mostre um menu na tela:  \n",
    "1: somar  \n",
    "2: multiplicar  \n",
    "3: maior  \n",
    "4: novos números  \n",
    "5: sair do programa  \n",
    "Seu programa deverá realizar a operação solicitada em cada caso  \n",
    "\n",
    "### 060 - Cálculo do fatorial\n",
    "  Faça um programa que leia um número qualquer e mostre o seu fatorial   \n",
    "exemplo: 5! = 5 * 4 * 3 * 2 * 1 = 120\n",
    "\n",
    "### 061 - Progressão aritmética v2.0\n",
    "  Refaça o DESAFIO 51, lendo o primeiro termo e a razão de uma PA, mostrando os 10 primeiros termos da progressão usando a estrutura while\n",
    "\n",
    "### 062 - Super Progressão Aritmética v3.0\n",
    "  Melhore o exercício 61, perguntando para o usuário se ele quer mostrar mais alguns termos. O programa encerra quando ele disser que quer mostrar \"0 termos\"\n",
    "\n",
    "### 063 - Sequência de Fibonacci v1.0\n",
    "  Escreva um programa que leia um número n inteiro qualquer e mostre na tela os primeiros n elementos e uma sequência de Fibonacci  \n",
    "1, 1, 2, 3, 5, 8, 13, 21, 34, 55, 89, 144, 233, 377, 610, 987, 1597, 2584 (...)\n",
    "\n",
    "### 064 - Tratando vários valores v1.0\n",
    "  Crie um programa que leia vários números inteiros pelo teclado. O programa só vai parar quando o usuário digitar o valor 999, que é a condição de parada.No final, mostre quantos números foram digitados e qual foi a soma entre eles (desconsiderando o flag!)\n",
    "\n",
    "### 065 - Maior e menor valores\n",
    "  Crie um programa que leia vários números inteiros pelo teclado. No final da execução, mostre a média entre todos os valores e qual foi o maior e o menor valores lidos. O programa deve perguntar ao usuário se ele quer ou não continuar a digitar valores\n"
   ]
  },
  {
   "cell_type": "code",
   "execution_count": 1,
   "id": "a0411391",
   "metadata": {},
   "outputs": [
    {
     "name": "stdout",
     "output_type": "stream",
     "text": [
      "Gênero válido: F\n"
     ]
    }
   ],
   "source": [
    "#057 - Validação de dados\n",
    "\n",
    "genero = input('Insira o gênero (M/F): ').strip().upper()\n",
    "\n",
    "while genero not in ['M', 'F']:\n",
    "    genero = input(\"Valor inválido. Por favor, digite apenas 'M' ou 'F': \").strip().upper()\n",
    "\n",
    "print(f\"Gênero válido: {genero}\")"
   ]
  },
  {
   "cell_type": "code",
   "execution_count": null,
   "id": "43f7886a",
   "metadata": {},
   "outputs": [
    {
     "name": "stdout",
     "output_type": "stream",
     "text": [
      "Tente adivinhar o número que estou pensando (entre 0 e 10).\n",
      "Errado! Tente novamente.\n",
      "Errado! Tente novamente.\n",
      "Errado! Tente novamente.\n",
      "Errado! Tente novamente.\n",
      "Errado! Tente novamente.\n",
      "Parabéns! Você acertou o número 2 com 6 tentativa(s).\n"
     ]
    }
   ],
   "source": [
    "#058 - Jogo da adivinhação v2.0\n",
    "\n",
    "import random\n",
    "\n",
    "num = random.randint(0, 10)\n",
    "palpites = 0\n",
    "acertou = False\n",
    "\n",
    "print('Tente adivinhar o número que estou pensando (entre 0 e 10).')\n",
    "\n",
    "while not acertou:\n",
    "    usuario = int(input('Seu palpite: '))\n",
    "    palpites += 1\n",
    "\n",
    "    if usuario == num:\n",
    "        acertou = True\n",
    "    else:\n",
    "        print('Errado! Tente novamente.')\n",
    "\n",
    "print(f'Parabéns! Você acertou o número {num} com {palpites} tentativa(s).')"
   ]
  },
  {
   "cell_type": "code",
   "execution_count": null,
   "id": "fe6795ad",
   "metadata": {},
   "outputs": [
    {
     "name": "stdout",
     "output_type": "stream",
     "text": [
      "\n",
      "    [1] Somar\n",
      "    [2] Multiplicar\n",
      "    [3] Maior\n",
      "    [4] Novos números\n",
      "    [5] Sair do programa\n",
      "    \n",
      "Soma: 7\n",
      "\n",
      "    [1] Somar\n",
      "    [2] Multiplicar\n",
      "    [3] Maior\n",
      "    [4] Novos números\n",
      "    [5] Sair do programa\n",
      "    \n",
      "Saindo do programa...\n"
     ]
    }
   ],
   "source": [
    "\n",
    "#059 - Criando um menu de opções\n",
    "\n",
    "v1 = int(input('Insira o primeiro valor: '))\n",
    "v2 = int(input('Insira o segundo valor: '))\n",
    "\n",
    "opcao = 0\n",
    "\n",
    "while opcao != 5:\n",
    "    print('''\n",
    "    [1] Somar\n",
    "    [2] Multiplicar\n",
    "    [3] Maior\n",
    "    [4] Novos números\n",
    "    [5] Sair do programa\n",
    "    ''')\n",
    "    opcao = int(input('Escolha uma opção: '))\n",
    "\n",
    "    if opcao == 1:\n",
    "        print(f'Soma: {v1 + v2}')\n",
    "    elif opcao == 2:\n",
    "        print(f'Multiplicação: {v1 * v2}')\n",
    "    elif opcao == 3:\n",
    "        print(f'Maior valor: {max(v1, v2)}')\n",
    "    elif opcao == 4:\n",
    "        v1 = int(input('Digite o novo primeiro valor: '))\n",
    "        v2 = int(input('Digite o novo segundo valor: '))     \n",
    "    elif opcao == 5:\n",
    "        print('Saindo do programa...')\n",
    "    else:\n",
    "        print('Opção inválida. Tente novamente.')\n"
   ]
  },
  {
   "cell_type": "code",
   "execution_count": null,
   "id": "0c792cf9",
   "metadata": {},
   "outputs": [
    {
     "name": "stdout",
     "output_type": "stream",
     "text": [
      "5! =\n",
      "5\n",
      "x\n",
      "4\n",
      "x\n",
      "3\n",
      "x\n",
      "2\n",
      "x\n",
      "1\n",
      "=\n",
      "120\n"
     ]
    }
   ],
   "source": [
    "#060 - Cálculo do fatorial\n",
    "\n",
    "num = int(input('Digite um número para calcular o fatorial: '))\n",
    "fatorial = 1\n",
    "contador = num\n",
    "\n",
    "print(f'{num}! =')\n",
    "\n",
    "while contador > 0: # Enquanto o contador for maior que 0, ele continuará realizando as operações\n",
    "    print(f'{contador}')\n",
    "    if contador > 1:\n",
    "        print('x')\n",
    "    else:\n",
    "        print('=')\n",
    "    fatorial *= contador # O fatorial é multiplicado pelo valor atual de contador\n",
    "    contador -= 1 # Após cada iteração, diminui o contador em 1\n",
    "\n",
    "print(f'{fatorial}')\n",
    "\n"
   ]
  },
  {
   "cell_type": "code",
   "execution_count": null,
   "id": "42d94cb8",
   "metadata": {},
   "outputs": [
    {
     "name": "stdout",
     "output_type": "stream",
     "text": [
      "\n",
      "Os 10 primeiros termos da PA são:\n",
      "2 8 14 20 26 32 38 44 50 56 "
     ]
    }
   ],
   "source": [
    "#061 - Progressão aritmética v2.0\n",
    "\n",
    "a1 = int(input('Digite o primeiro termo da PA: '))\n",
    "r = int(input('Digite a razão da PA: '))\n",
    "\n",
    "# Inicializando o contador e o primeiro termo\n",
    "contador = 1\n",
    "termo = a1\n",
    "\n",
    "print(f'\\nOs 10 primeiros termos da PA são:')\n",
    "\n",
    "while contador <= 10:\n",
    "    print(termo, end=' ') # Usar end=' ' permite controlar o formato da saída, fazendo com que todos os termos da PA sejam impressos na mesma linha com um espaço entre eles\n",
    "    termo += r  # Atualiza o valor do termo de acordo com a razão\n",
    "    contador += 1  # Incrementa o contador"
   ]
  },
  {
   "cell_type": "code",
   "execution_count": null,
   "id": "26102d9c",
   "metadata": {},
   "outputs": [
    {
     "name": "stdout",
     "output_type": "stream",
     "text": [
      "\n",
      "Os 10 primeiros termos da PA são:\n",
      "4 10 16 22 28 34 40 46 52 58 \n",
      "64 70 \n",
      "Progressão finalizada com 12 termos mostrados.\n"
     ]
    }
   ],
   "source": [
    "\n",
    "#062 - Super Progressão Aritmética v3.0\n",
    "\n",
    "a1 = int(input('Digite o primeiro termo da PA: '))\n",
    "r = int(input('Digite a razão da PA: '))\n",
    "\n",
    "# Inicializando o contador e o primeiro termo\n",
    "total_termos = 0\n",
    "termo = a1\n",
    "novos_termos = 10 # Começa mostrando 10 termos\n",
    "\n",
    "print(f'\\nOs 10 primeiros termos da PA são:')\n",
    "\n",
    "while novos_termos != 0:\n",
    "    contador = 1\n",
    "    while contador <= novos_termos:\n",
    "        print(termo, end=' ') # Usar end=' ' permite controlar o formato da saída, fazendo com que todos os termos da PA sejam impressos na mesma linha com um espaço entre eles\n",
    "        termo += r\n",
    "        contador += 1\n",
    "    total_termos += novos_termos\n",
    "    print()\n",
    "    novos_termos = int(input('Deseja mostrar mais quantos termos?: '))\n",
    "\n",
    "print(f'Progressão finalizada com {total_termos} termos mostrados.')"
   ]
  },
  {
   "cell_type": "code",
   "execution_count": null,
   "id": "2e2dd034",
   "metadata": {},
   "outputs": [
    {
     "name": "stdout",
     "output_type": "stream",
     "text": [
      "Sequência de Fibonacci:\n",
      "0 1 1 2 3 5 8 13 21 34 55 89 144 233 377 610 987 1597 2584 4181 6765 10946 17711 28657 46368 75025 121393 196418 317811 514229 "
     ]
    }
   ],
   "source": [
    "#063 - Sequência de Fibonacci v1.0\n",
    "\n",
    "num = int(input('Quantos termos da sequência de Fibonacci você quer ver? '))\n",
    "\n",
    "a = 0\n",
    "b = 1\n",
    "contador = 0\n",
    "\n",
    "print('Sequência de Fibonacci:')\n",
    "while contador < num:\n",
    "    print(a, end=' ')\n",
    "    proximo = a + b\n",
    "    a = b\n",
    "    b = proximo\n",
    "    contador += 1"
   ]
  },
  {
   "cell_type": "code",
   "execution_count": null,
   "id": "621b7458",
   "metadata": {},
   "outputs": [
    {
     "name": "stdout",
     "output_type": "stream",
     "text": [
      "Você digitou 3 números e a soma entre eles foi 402.\n"
     ]
    }
   ],
   "source": [
    "\n",
    "#064 - Tratando vários valores v1.0\n",
    "\n",
    "num = int(input('Insira um número inteiro [999 para parar]: '))\n",
    "soma = 0\n",
    "quantidade = 0\n",
    "\n",
    "while num != 999:\n",
    "    soma += num\n",
    "    quantidade += 1\n",
    "    num = int(input('Insira outro número [999 para parar]: '))\n",
    "\n",
    "print(f'Você digitou {quantidade} números e a soma entre eles foi {soma}.')"
   ]
  },
  {
   "cell_type": "code",
   "execution_count": null,
   "id": "265c76e0",
   "metadata": {},
   "outputs": [
    {
     "name": "stdout",
     "output_type": "stream",
     "text": [
      "A média dos números é 33.666666666666664.\n",
      "O maior valor foi 90 e o menor valor foi 4.\n"
     ]
    }
   ],
   "source": [
    "\n",
    "#065 - Maior e menor valores\n",
    "\n",
    "soma = 0\n",
    "quantidade = 0\n",
    "maior = float('-inf')  # Inicializa com um número muito baixo\n",
    "menor = float('inf')  # Inicializa com um número muito alto\n",
    "\n",
    "continuar = 's'\n",
    "\n",
    "while continuar == 's':\n",
    "    numero = int(input('Digite um número inteiro: '))\n",
    "    \n",
    "    soma += numero\n",
    "    quantidade += 1\n",
    "    \n",
    "    if numero > maior:\n",
    "        maior = numero\n",
    "    if numero < menor:\n",
    "        menor = numero\n",
    "    \n",
    "    continuar = input('Você quer continuar? (s/n): ').strip().lower()\n",
    "\n",
    "media = soma / quantidade\n",
    "print(f'A média dos números é {media}.')\n",
    "print(f'O maior valor foi {maior} e o menor valor foi {menor}.')\n"
   ]
  }
 ],
 "metadata": {
  "kernelspec": {
   "display_name": "venv",
   "language": "python",
   "name": "python3"
  },
  "language_info": {
   "codemirror_mode": {
    "name": "ipython",
    "version": 3
   },
   "file_extension": ".py",
   "mimetype": "text/x-python",
   "name": "python",
   "nbconvert_exporter": "python",
   "pygments_lexer": "ipython3",
   "version": "3.11.4"
  }
 },
 "nbformat": 4,
 "nbformat_minor": 5
}
