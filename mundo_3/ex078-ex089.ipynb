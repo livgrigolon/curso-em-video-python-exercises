{
 "cells": [
  {
   "cell_type": "markdown",
   "id": "67cd44d6",
   "metadata": {},
   "source": [
    "### 078 - Maior e menor valores na lista\n",
    "  Faça um programa que leia 5 valores números e guarde-os em uma lista. No final, mostre qual foi o maior e o menor valor digitados e as suas respectivas posições na lista.\n",
    "\n",
    "### 079 - Valores únicos em uma lista\n",
    "  Crie um programa onde o usuário possa digitar vários valores numéricos e cadastre-os em uma lista. Caso o número já exista lá dentro, ele não será adicionado. No final, serão exibidos todos os valores únicos digitados, em ordem crescente.\n",
    "\n",
    "### 080 - Lista ordenada sem repetições\n",
    "  Crie um programa onde o usuário possa digitar cinco valores numéricos e cadastre-os em uma lista, já na posição correta de inserção (sem usar o sort()). No final, mostre a lista ordenada na tela.\n",
    "\n",
    "### 081 - Extraindo dados de uma lista\n",
    "  Crie um programa que vai ler vários números e colocá-los em uma lista. Depois disso, mostre:  \n",
    "a) quantos números foram digitados.  \n",
    "b) a lista de valores, ordenada de forma decrescente  \n",
    "c) se o valor 5 foi digitado e está ou não na lista.  \n",
    "\n",
    "### 082 - Dividindo valores em várias listas\n",
    "  Crie um programa que vai ler vários números e colocar em uma lista. Depois disso, crie duas listas extras que vão conter apenas os valores pares e os valores ímpares digitados, respectivamente. Ao final, mostre o conteúdo das três listas geradas.\n",
    "\n",
    "### 083 - Validando expressões matemáticas\n",
    "  Crie um programa onde o usuário digite uma expressão qualquer que use parênteses. Seu aplicativo deverá analisar se a expressão passada está com os parênteses abertos e fechados na ordem correta.\n",
    "\n",
    "### 084 - Lista composta e análise de dados\n",
    "  Faça um programa que leia nome e peso de várias pessoas guardando tudo em uma lista. No final, mostre:  \n",
    "a: quantas pessoas foram cadastradas.  \n",
    "b: uma listagem com as pessoas mais pesadas  \n",
    "c: uma listagem com as pessoas mais leves  \n",
    "\n",
    "### 085 - Listas com pares e ímpares\n",
    "  Crie um programa onde o usuário possa digitar sete valores numéricos e cadastre-os em uma lista única que mantenha separados os valores pares e ímpares. No final, mostre os valores pares e ímpares em ordem crescente.\n",
    "\n",
    "### 086 - Matrix em Python\n",
    "  Crie um programa que crie uma matriz 3.3 e preencha com valores lidos pelo teclado. No final, mostre a matriz na tela com a formatação correta\n",
    "\n",
    "### 087 - Mais sobre matriz em Python\n",
    "  Aprimore o desafio anterior, mostrando no final:  \n",
    "a: a soma de todos os valores pares digitados  \n",
    "b: a soma dos valores da terceira coluna  \n",
    "c: o maior valor da segunda linha  \n",
    "\n",
    "### 088 - Palpites para a Mega-Sena\n",
    "  Faça um programa que ajude um jogador da MEGA SENA a criar palpites. O programa vai perguntar quantos jogos serão gerados e vai sortear 6 números entre 1 e 60 para cada jogo, cadastrando tudo em uma lista composta.\n",
    "\n",
    "### 089 - Boletim com listas compostas\n",
    "  Crie um programa que leia nome e duas notas de vários alunos e guarde tudo em uma lista composta. No final, mostre um boletim contendo a média de cada um e permita que o usuário possa mostrar as notas de cada aluno individualmente"
   ]
  },
  {
   "cell_type": "code",
   "execution_count": null,
   "id": "662314c5",
   "metadata": {},
   "outputs": [
    {
     "name": "stdout",
     "output_type": "stream",
     "text": [
      "\n",
      "O maior valor digitado foi 5, nas posições: [4]\n",
      "O menor valor digitado foi 1, nas posições: [0]\n"
     ]
    }
   ],
   "source": [
    "#078 - Maior e menor valores na lista\n",
    "\n",
    "numeros = []\n",
    "\n",
    "for n in range(5):\n",
    "    valor = int(input('Digite um valor:'))\n",
    "    numeros.append(valor)\n",
    "\n",
    "maior = max(numeros)\n",
    "menor = min(numeros)\n",
    "\n",
    "# Guardar as posições em listas separadas\n",
    "posicoes_maior = []\n",
    "posicoes_menor = []\n",
    "\n",
    "for i in range(len(numeros)):\n",
    "    if numeros[i] == maior:\n",
    "        posicoes_maior.append(i)\n",
    "    if numeros[i] == menor:\n",
    "        posicoes_menor.append(i)\n",
    "\n",
    "print(f'O maior valor digitado foi {maior}, nas posições: {posicoes_maior}')\n",
    "print(f'O menor valor digitado foi {menor}, nas posições: {posicoes_menor}')"
   ]
  },
  {
   "cell_type": "code",
   "execution_count": null,
   "id": "8413bad7",
   "metadata": {},
   "outputs": [
    {
     "name": "stdout",
     "output_type": "stream",
     "text": [
      "Valor duplicado, não será adicionado.\n",
      "Valor duplicado, não será adicionado.\n",
      "Valores únicos digitados: [1, 11]\n"
     ]
    }
   ],
   "source": [
    "#079 - Valores únicos em uma lista\n",
    "\n",
    "valores = []\n",
    "\n",
    "while True:\n",
    "    valor = int(input('Digite um valor:'))\n",
    "    if valor not in valores:\n",
    "        valores.append(valor)\n",
    "    else:\n",
    "        print('Valor duplicado, não será adicionado.')\n",
    "    continuar = input('Quer continuar? (S/N)')\n",
    "    if continuar.upper() == 'N':\n",
    "        break\n",
    "\n",
    "print(f'Valores únicos digitados: {sorted(valores)}')\n"
   ]
  },
  {
   "cell_type": "code",
   "execution_count": null,
   "id": "ee7dfd0f",
   "metadata": {},
   "outputs": [
    {
     "name": "stdout",
     "output_type": "stream",
     "text": [
      "Números digitados em ordem: [1, 6, 9, 23, 77]\n"
     ]
    }
   ],
   "source": [
    "#080 - Lista ordenada sem repetições\n",
    "\n",
    "numeros = []\n",
    "\n",
    "for n in range(5):\n",
    "    valor = int(input('Digite um valor:'))\n",
    "    inserido = False\n",
    "    for i, v in enumerate(numeros): # i = o índice (posição na lista) | v = o valor naquele índice\n",
    "        if valor <= v:\n",
    "            numeros.insert(i, valor) # Insere valor na posição i\n",
    "            inserido = True\n",
    "            break # Sai do for\n",
    "    if not inserido:\n",
    "        numeros.append(valor)\n",
    "\n",
    "print(f'Números digitados em ordem: {numeros}')\n"
   ]
  },
  {
   "cell_type": "code",
   "execution_count": null,
   "id": "f00c0cd5",
   "metadata": {},
   "outputs": [
    {
     "name": "stdout",
     "output_type": "stream",
     "text": [
      "Foram digitados 4 números.\n",
      "Os valores em ordem decrescente são: [10, 7, 2, 2]\n",
      "O número 5 NÃO foi digitado.\n"
     ]
    }
   ],
   "source": [
    "#081 - Extraindo dados de uma lista\n",
    "\n",
    "numeros = []\n",
    "\n",
    "while True:\n",
    "    valor = int(input('Digite um número:'))\n",
    "    numeros.append(valor)\n",
    "    continuar = input('Quer continuar? (S/N) ')\n",
    "    if continuar.upper() == 'N':\n",
    "        break\n",
    "\n",
    "print(f'Foram digitados {len(numeros)} números.')\n",
    "print(f'Os valores em ordem decrescente são: {sorted(numeros, reverse=True)}')\n",
    "\n",
    "if 5 in numeros:\n",
    "    print('O número 5 está na lista.')\n",
    "else:\n",
    "    print('O número 5 NÃO foi digitado.')"
   ]
  },
  {
   "cell_type": "code",
   "execution_count": null,
   "id": "14d80019",
   "metadata": {},
   "outputs": [
    {
     "name": "stdout",
     "output_type": "stream",
     "text": [
      "\n",
      "Todos os números digitados: [1, 3, 2, 4]\n",
      "Números pares: [2, 4]\n",
      "Números ímpares: [1, 3]\n"
     ]
    }
   ],
   "source": [
    "\n",
    "#082 - Dividindo valores em várias listas\n",
    "\n",
    "lista = []\n",
    "pares = []\n",
    "impares = []\n",
    "\n",
    "while True:\n",
    "    valor = int(input('Digite um número:'))\n",
    "    lista.append(valor)\n",
    "    continuar = input('Quer continuar? (S/N) ')\n",
    "    if continuar.upper() == 'N':\n",
    "        break\n",
    "\n",
    "# Separar pares e ímpares\n",
    "for n in lista:\n",
    "    if n % 2 == 0:\n",
    "        pares.append(n)\n",
    "    else:\n",
    "        impares.append(n)\n",
    "\n",
    "print(f'\\nTodos os números digitados: {lista}')\n",
    "print(f'Números pares: {pares}')\n",
    "print(f'Números ímpares: {impares}')"
   ]
  },
  {
   "cell_type": "code",
   "execution_count": null,
   "id": "ed9c7401",
   "metadata": {},
   "outputs": [
    {
     "name": "stdout",
     "output_type": "stream",
     "text": [
      "A expressão está válida.\n"
     ]
    }
   ],
   "source": [
    "#083 - Validando expressões matemáticas\n",
    "\n",
    "expressao = input('Digite uma expressão: ')\n",
    "parenteses = []\n",
    "\n",
    "for caractere in expressao:\n",
    "    if caractere == '(':\n",
    "        parenteses.append('(') # Se for um parêntese de abertura, adiciona na lista\n",
    "    elif caractere == ')': # Se for um parêntese de fechamento:\n",
    "        if len(parenteses) > 0: # Se tem algum '(' guardado, remove ele (fechando um parêntese)\n",
    "            parenteses.pop()\n",
    "        else:\n",
    "            parenteses.append(')') # Se NÃO tem '(' para fechar, quer dizer que está errado\n",
    "            break\n",
    "\n",
    "if len(parenteses) == 0:\n",
    "    print('A expressão está válida.')\n",
    "else:\n",
    "    print('A expressão está inválida.')\n"
   ]
  },
  {
   "cell_type": "code",
   "execution_count": null,
   "id": "2d84e263",
   "metadata": {},
   "outputs": [
    {
     "name": "stdout",
     "output_type": "stream",
     "text": [
      "Foram cadastradas 3 pessoas.\n",
      "O maior peso foi 70.0kg. Peso de: \n",
      "[Livia]\n",
      "O menor peso foi 55.0kg. Peso de: \n",
      "[Ana]\n"
     ]
    }
   ],
   "source": [
    "#084 - Lista composta e análise de dados\n",
    "\n",
    "pessoas = []\n",
    "dados = []\n",
    "\n",
    "while True:\n",
    "    nome = input('Nome: ')\n",
    "    peso = float(input('Peso: '))\n",
    "    dados.append(nome)\n",
    "    dados.append(peso)\n",
    "    pessoas.append(dados[:])  # Adiciona uma cópia de dados na lista principal\n",
    "    dados.clear()             # Limpa a lista temporária\n",
    "\n",
    "    continuar = input('Quer continuar? (S/N) ')\n",
    "    if continuar.strip().upper() == 'N':\n",
    "        break\n",
    "\n",
    "# Descobrir maior e menor peso\n",
    "pesos = [p[1] for p in pessoas]\n",
    "maior = max(pesos)\n",
    "menor = min(pesos)\n",
    "\n",
    "print(f'Foram cadastradas {len(pessoas)} pessoas.')\n",
    "\n",
    "print(f'O maior peso foi {maior}kg. Peso de: ')\n",
    "for p in pessoas:\n",
    "    if p[1] == maior: # Se o peso dessa pessoa (p[1]) é igual ao maior peso encontrado\n",
    "        print(f'[{p[0]}]') # p[0] é o nome (primeiro elemento da sublista)\n",
    "\n",
    "print(f'O menor peso foi {menor}kg. Peso de: ')\n",
    "for p in pessoas: # Cada 'p' é uma lista com [nome, peso]\n",
    "    if p[1] == menor:\n",
    "        print(f'[{p[0]}]')"
   ]
  },
  {
   "cell_type": "code",
   "execution_count": null,
   "id": "ea1e8f05",
   "metadata": {},
   "outputs": [
    {
     "name": "stdout",
     "output_type": "stream",
     "text": [
      "\n",
      "Números pares digitados: [2, 4, 6]\n",
      "Números ímpares digitados: [1, 3, 5, 7]\n"
     ]
    }
   ],
   "source": [
    "### 085 - Listas com pares e ímpares\n",
    "\n",
    "valores = [[], []] # Lista principal com duas listas dentro | valores[0] será para pares, valores[1] para ímpares\n",
    "\n",
    "for _ in range(7): # _ significa que o valor do for não importa\n",
    "    valor = int(input('Digite um número:'))\n",
    "    if valor % 2 == 0:\n",
    "        valores[0].append(valor)  # adiciona na lista de pares\n",
    "    else:\n",
    "        valores[1].append(valor)  # adiciona na lista de ímpares\n",
    "\n",
    "# Ordenar as listas antes de mostrar\n",
    "valores[0].sort()\n",
    "valores[1].sort()\n",
    "\n",
    "print(f'\\nNúmeros pares digitados: {valores[0]}')\n",
    "print(f'Números ímpares digitados: {valores[1]}')"
   ]
  },
  {
   "cell_type": "code",
   "execution_count": null,
   "id": "b16e92ef",
   "metadata": {},
   "outputs": [
    {
     "name": "stdout",
     "output_type": "stream",
     "text": [
      "Matriz 3x3:\n",
      "  1    1    1  \n",
      "  2    2    2  \n",
      "  3    3    3  \n"
     ]
    }
   ],
   "source": [
    "#086 - Matrix em Python\n",
    "\n",
    "'''\n",
    "Exemplo de matriz 3x3\n",
    "matriz = [\n",
    "    [1, 2, 3],  # linha 0\n",
    "    [4, 5, 6],  # linha 1\n",
    "    [7, 8, 9]   # linha 2\n",
    "]\n",
    "'''\n",
    "matriz = []\n",
    "\n",
    "for i in range(3):  # para cada linha (0, 1, 2)\n",
    "    linha = []      # cria uma lista para a linha atual\n",
    "    for j in range(3):  # para cada coluna (0, 1, 2)\n",
    "        valor = int(input(f'Digite o valor para [{i}, {j}]: '))\n",
    "        linha.append(valor)  # adiciona o valor na linha\n",
    "    matriz.append(linha)     # adiciona a linha na matriz\n",
    "\n",
    "print('Matriz 3x3:')\n",
    "for linha in matriz:\n",
    "    for valor in linha:\n",
    "        print(f'{valor:^5}', end='')  # imprime valores na mesma linha"
   ]
  },
  {
   "cell_type": "code",
   "execution_count": null,
   "id": "ece054a6",
   "metadata": {},
   "outputs": [
    {
     "name": "stdout",
     "output_type": "stream",
     "text": [
      "\n",
      "Matriz 3x3:\n",
      "  1    2    3  \n",
      "  1    2    3  \n",
      "  1    2    3  \n",
      "\n",
      "Soma dos valores pares: 6\n",
      "Soma dos valores da terceira coluna: 9\n",
      "Maior valor da segunda linha: 3\n"
     ]
    }
   ],
   "source": [
    "#087 - Mais sobre matriz em Python\n",
    "\n",
    "matriz = []\n",
    "\n",
    "for i in range(3):\n",
    "    linha = []\n",
    "    for j in range(3):\n",
    "        valor = int(input(f'Digite o valor para [{i}, {j}]: '))\n",
    "        linha.append(valor)\n",
    "    matriz.append(linha)\n",
    "\n",
    "# a) soma de todos os valores pares\n",
    "soma_pares = 0\n",
    "for linha in matriz:\n",
    "    for valor in linha:\n",
    "        if valor % 2 == 0:\n",
    "            soma_pares += valor\n",
    "\n",
    "# b) soma dos valores da terceira coluna (índice 2)\n",
    "soma_terceira_coluna = 0\n",
    "for i in range(3):\n",
    "    soma_terceira_coluna += matriz[i][2]\n",
    "\n",
    "# c) maior valor da segunda linha (índice 1)\n",
    "maior_segunda_linha = max(matriz[1])\n",
    "\n",
    "# Exibindo resultados\n",
    "print('\\nMatriz 3x3:')\n",
    "for linha in matriz:\n",
    "    for valor in linha:\n",
    "        print(f'{valor:^5}', end='')\n",
    "    print()\n",
    "\n",
    "print(f'\\nSoma dos valores pares: {soma_pares}')\n",
    "print(f'Soma dos valores da terceira coluna: {soma_terceira_coluna}')\n",
    "print(f'Maior valor da segunda linha: {maior_segunda_linha}')"
   ]
  },
  {
   "cell_type": "code",
   "execution_count": null,
   "id": "e72c2390",
   "metadata": {},
   "outputs": [
    {
     "name": "stdout",
     "output_type": "stream",
     "text": [
      "\n",
      "Jogos gerados:\n",
      "Jogo 1: [6, 8, 10, 31, 52, 57]\n",
      "Jogo 2: [17, 19, 26, 38, 46, 48]\n",
      "Jogo 3: [1, 3, 19, 35, 38, 40]\n",
      "Jogo 4: [6, 40, 47, 48, 54, 57]\n",
      "Jogo 5: [7, 22, 27, 41, 45, 59]\n"
     ]
    }
   ],
   "source": [
    "#088 - Palpites para a Mega-Sena\n",
    "\n",
    "import random as rd\n",
    "\n",
    "jogos = []\n",
    "quantidade = int(input('Quantos jogos da MEGA SENA você quer gerar? '))\n",
    "\n",
    "for _ in range(quantidade):\n",
    "    jogo = []\n",
    "    while len(jogo) < 6:\n",
    "        num = rd.randint(1, 60)\n",
    "        if num not in jogo:\n",
    "            jogo.append(num)\n",
    "    jogo.sort()  # opcional: deixar os números do jogo em ordem\n",
    "    jogos.append(jogo)\n",
    "\n",
    "print('\\nJogos gerados:')\n",
    "for i, jogo in enumerate(jogos, 1):\n",
    "    print(f'Jogo {i}: {jogo}')"
   ]
  },
  {
   "cell_type": "code",
   "execution_count": null,
   "id": "c2056ac1",
   "metadata": {},
   "outputs": [
    {
     "name": "stdout",
     "output_type": "stream",
     "text": [
      "\n",
      "Boletim:\n",
      "0 - Livia: 9.5\n",
      "1 - Sophia: 9.5\n",
      "2 - Maria: 7.0\n",
      "Notas de Maria: 6.0 e 8.0\n",
      "Finalizando...\n"
     ]
    }
   ],
   "source": [
    "### 089 - Boletim com listas compostas\n",
    "  # Crie um programa que leia nome e duas notas de vários alunos e guarde tudo em uma lista composta. \n",
    "  # o final, mostre um boletim contendo a média de cada um \n",
    "  # e permita que o usuário possa mostrar as notas de cada aluno individualmente\n",
    "\n",
    "alunos = []\n",
    "\n",
    "while True:\n",
    "    nome = input('Nome: ')\n",
    "    nota1 = float(input('Nota 1: '))\n",
    "    nota2 = float(input('Nota 2: '))\n",
    "    \n",
    "    # Adiciona uma lista com nome e as duas notas dentro de 'alunos'\n",
    "    alunos.append([nome, nota1, nota2])\n",
    "    \n",
    "    continuar = input('Quer continuar? (S/N) ').strip().upper()\n",
    "    if continuar == 'N':\n",
    "        break\n",
    "\n",
    "print('\\nBoletim:')\n",
    "# Loop para mostrar o boletim com índice, nome e média de cada aluno\n",
    "for i, (nome, n1, n2) in enumerate(alunos):\n",
    "    media = (n1 + n2) / 2\n",
    "    print(f'{i} - {nome}: {media:.1f}') # Imprime o índice, nome e média formatada com 1 casa decimal\n",
    "\n",
    "# Loop infinito para consultar as notas individuais dos alunos\n",
    "while True:\n",
    "    opcao = input('\\nMostrar notas de qual aluno? (Número ou 999 para sair): ')\n",
    "    if opcao == '999':\n",
    "        print('Finalizando...')\n",
    "        break\n",
    "    # Verifica se a opção é um número válido e está dentro do índice da lista alunos\n",
    "    if opcao.isdigit() and 0 <= int(opcao) < len(alunos):\n",
    "        nome, n1, n2 = alunos[int(opcao)] # Recupera nome e notas do aluno escolhido\n",
    "        print(f'Notas de {nome}: {n1} e {n2}')\n",
    "    else:\n",
    "        print('Número inválido, tente novamente.')"
   ]
  }
 ],
 "metadata": {
  "kernelspec": {
   "display_name": "Python 3",
   "language": "python",
   "name": "python3"
  },
  "language_info": {
   "codemirror_mode": {
    "name": "ipython",
    "version": 3
   },
   "file_extension": ".py",
   "mimetype": "text/x-python",
   "name": "python",
   "nbconvert_exporter": "python",
   "pygments_lexer": "ipython3",
   "version": "3.9.6"
  }
 },
 "nbformat": 4,
 "nbformat_minor": 5
}
