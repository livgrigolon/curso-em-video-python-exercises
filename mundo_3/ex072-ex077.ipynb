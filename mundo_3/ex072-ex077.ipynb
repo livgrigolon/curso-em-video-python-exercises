{
 "cells": [
  {
   "cell_type": "markdown",
   "id": "35f70eab",
   "metadata": {},
   "source": [
    "# Tuplas\n",
    "\n",
    "### 072 - Número por extenso\n",
    "  Crie um programa que tenha uma tupla totalmente preenchida com uma contagem por extenso de zero até vinte. Seu programa deverá ler um número pelo teclado (entre 0 e 20) e mostrá-lo por extenso\n",
    "\n",
    "### 073 - Tuplas com times de futebol\n",
    "  Crie uma tupla preenchida com os 20 primeiros colocados da Tabela do Campeonato Brasileiro, na ordem de colocação. Depois mostre:  \n",
    "a) apenas os 5 primeiros colocados  \n",
    "b) os últimos 4 colocados da tabela  \n",
    "c) uma lista com os times em ordem alfabética  \n",
    "d) em que posição na tabela está o time da Chapecoense  \n",
    "\n",
    "### 074 - Maior e menor valores em tupla\n",
    "  Crie um programa que vai gerar cinco números aleatórios e colocar em uma tupla. Depois disso, mostre a listagem de números gerados e também indice o menor e o maior valor que estão na tupla\n",
    "\n",
    "### 075 - Análise de dados em uma tupla\n",
    "  Desenvolva um programa que leia quatro valores pelo teclado e guarde-os em uma tupla. No final, mostre:  \n",
    "a) quantas vezes apareceu o valor 9  \n",
    "b) em que posição foi digitado o primeiro valor 3  \n",
    "b) quais foram os números pares  \n",
    "\n",
    "### 076 - Lista de preços com tupla\n",
    "  Crie um programa que tenha uma tupla única com nomes de produtos e seus respectivos precos, na sequência. No final, mostre uma listagem de preços, organizando os dados em forma tabular\n",
    "\n",
    "### 077 - Contando vogais em tupla\n",
    "  Crie um programa que tenha uma tupla com várias palavras (não usar acentos). Depois disso, você deve mostrar, para cada palavra, quais são as suas vogais\n"
   ]
  },
  {
   "cell_type": "code",
   "execution_count": null,
   "id": "96980f8c",
   "metadata": {},
   "outputs": [
    {
     "name": "stdout",
     "output_type": "stream",
     "text": [
      "Você digitou o número cinco.\n"
     ]
    }
   ],
   "source": [
    "#072 - Número por extenso\n",
    "\n",
    "numeros_por_extenso = (\n",
    "    'zero', 'um', 'dois', 'três', 'quatro',\n",
    "    'cinco', 'seis', 'sete', 'oito', 'nove',\n",
    "    'dez', 'onze', 'doze', 'treze', 'quatorze',\n",
    "    'quinze', 'dezesseis', 'dezessete', 'dezoito', 'dezenove', 'vinte'\n",
    ")\n",
    "\n",
    "while True:\n",
    "    numero = int(input('Digite um número entre 0 e 20: '))\n",
    "    if 0 <= numero <= 20:\n",
    "        print(f'Você digitou o número {numeros_por_extenso[numero]}.')\n",
    "        break\n",
    "    else:\n",
    "        print('Número inválido. Tente novamente.')\n"
   ]
  },
  {
   "cell_type": "code",
   "execution_count": 12,
   "id": "15cb9007",
   "metadata": {},
   "outputs": [
    {
     "name": "stdout",
     "output_type": "stream",
     "text": [
      "a) Os 5 primeiros colocados são:\n",
      "('Palmeiras', 'Grêmio', 'Atlético-MG', 'Flamengo', 'Botafogo')\n",
      "b) Os 4 últimos colocados são:\n",
      "('Vasco', 'Goiás', 'Coritiba', 'América-MG')\n",
      "c) Times em ordem alfabética:\n",
      "['América-MG', 'Athletico-PR', 'Atlético-MG', 'Bahia', 'Botafogo', 'Bragantino', 'Chapecoense', 'Corinthians', 'Coritiba', 'Cruzeiro', 'Flamengo', 'Fluminense', 'Fortaleza', 'Goiás', 'Grêmio', 'Internacional', 'Palmeiras', 'Santos', 'São Paulo', 'Vasco']\n",
      "d) Posição da Chapecoense na tabela:\n",
      "A Chapecoense está na 12ª posição.\n"
     ]
    }
   ],
   "source": [
    "\n",
    "#073 - Tuplas com times de futebol\n",
    "\n",
    "# Tupla com os 20 primeiros colocados do Brasileirão (exemplo fictício)\n",
    "brasileirao = (\n",
    "    'Palmeiras', 'Grêmio', 'Atlético-MG', 'Flamengo', 'Botafogo',\n",
    "    'Bragantino', 'Fluminense', 'Athletico-PR', 'Internacional', 'Fortaleza',\n",
    "    'São Paulo', 'Chapecoense', 'Corinthians', 'Cruzeiro', 'Bahia',\n",
    "    'Santos', 'Vasco', 'Goiás', 'Coritiba', 'América-MG'\n",
    ")\n",
    "\n",
    "print('a) Os 5 primeiros colocados são:')\n",
    "print(brasileirao[:5])\n",
    "\n",
    "print('b) Os 4 últimos colocados são:')\n",
    "print(brasileirao[-4:])\n",
    "\n",
    "print('c) Times em ordem alfabética:')\n",
    "print(sorted(brasileirao))\n",
    "\n",
    "print('d) Posição da Chapecoense na tabela:')\n",
    "if 'Chapecoense' in brasileirao:\n",
    "    posicao = brasileirao.index('Chapecoense') + 1 # Retorna o índice do time e somamos +1 para representar a posição real na tabela\n",
    "    print(f'A Chapecoense está na {posicao}ª posição.')\n",
    "else:\n",
    "    print('A Chapecoense não está na lista dos 20 primeiros.')"
   ]
  },
  {
   "cell_type": "code",
   "execution_count": 35,
   "id": "83065005",
   "metadata": {},
   "outputs": [
    {
     "name": "stdout",
     "output_type": "stream",
     "text": [
      "Números sorteados: (56, 19, 50, 84, 96)\n",
      "\n",
      "O maior valor sorteado foi 96\n",
      "O menor valor sorteado foi 19\n"
     ]
    }
   ],
   "source": [
    "\n",
    "#074 - Maior e menor valores em tupla\n",
    "\n",
    "import random\n",
    "num = tuple(random.randint(1, 100) for n in range(5)) # Gerando 5 números aleatórios entre 1 e 100\n",
    "\n",
    "print(f'Números sorteados: {num}')\n",
    "print(f'\\nO maior valor sorteado foi {max(num)}') # max()\n",
    "print(f'O menor valor sorteado foi {min(num)}') # min()"
   ]
  },
  {
   "cell_type": "code",
   "execution_count": null,
   "id": "0ff1ef38",
   "metadata": {},
   "outputs": [
    {
     "name": "stdout",
     "output_type": "stream",
     "text": [
      "\n",
      "Números escolhidos: (1, 9, 9, 4)\n",
      "O número 9 apareceu 2 vez(es).\n",
      "O valor 3 não foi digitado.\n",
      "Os números pares digitados foram: [4]\n"
     ]
    }
   ],
   "source": [
    "\n",
    "#075 - Análise de dados em uma tupla\n",
    "\n",
    "entrada = tuple(int(input('Digite um valor: ')) for _ in range(4)) # Use _ → quando o valor da variável do for não será usado\n",
    "print(f'\\nNúmeros escolhidos: {entrada}')\n",
    "\n",
    "# a) Quantas vezes apareceu o valor 9\n",
    "qntd_nove = entrada.count(9)\n",
    "print(f'O número 9 apareceu {qntd_nove} vez(es).')\n",
    "\n",
    "# b) Em que posição foi digitado o primeiro valor 3\n",
    "if 3 in entrada:\n",
    "    posicao_tres = entrada.index(3) + 1  # Posição humana (1ª, 2ª, etc.)\n",
    "    print(f'O primeiro valor 3 foi digitado na {posicao_tres}ª posição.')\n",
    "else:\n",
    "    print('O valor 3 não foi digitado.')\n",
    "\n",
    "# c) Quais foram os números pares\n",
    "pares = [n for n in entrada if n % 2 == 0]\n",
    "print(f'Os números pares digitados foram: {pares if pares else \"Nenhum\"}')"
   ]
  },
  {
   "cell_type": "code",
   "execution_count": null,
   "id": "686616e4",
   "metadata": {},
   "outputs": [
    {
     "name": "stdout",
     "output_type": "stream",
     "text": [
      "----------------------------------------\n",
      "           LISTAGEM DE PREÇOS           \n",
      "----------------------------------------\n",
      "Lápis......................... R$    1.50\n",
      "Caderno....................... R$   15.90\n",
      "Caneta........................ R$    2.00\n",
      "Borracha...................... R$    0.99\n",
      "Mochila....................... R$  120.00\n",
      "Livro......................... R$   45.00\n",
      "Régua......................... R$    3.75\n",
      "Estojo........................ R$   18.00\n",
      "----------------------------------------\n"
     ]
    }
   ],
   "source": [
    "\n",
    "#076 - Lista de preços com tupla\n",
    "\n",
    "# Tupla com produtos e seus respectivos preços\n",
    "produtos = (\n",
    "    'Lápis', 1.50,\n",
    "    'Caderno', 15.90,\n",
    "    'Caneta', 2.00,\n",
    "    'Borracha', 0.99,\n",
    "    'Mochila', 120.00,\n",
    "    'Livro', 45.00,\n",
    "    'Régua', 3.75,\n",
    "    'Estojo', 18.00\n",
    ")\n",
    "\n",
    "# Criação de cabeçalho visual\n",
    "print('-' * 40)\n",
    "print(f'{\"LISTAGEM DE PREÇOS\":^40}')\n",
    "print('-' * 40)\n",
    "\n",
    "# Exibindo os itens com formatação\n",
    "for i in range(0, len(produtos), 2):\n",
    "    nome = produtos[i]\n",
    "    preco = produtos[i + 1]\n",
    "    print(f'{nome:.<30} R$ {preco:>7.2f}')\n",
    "\n",
    "print('-' * 40)"
   ]
  },
  {
   "cell_type": "code",
   "execution_count": null,
   "id": "133dea98",
   "metadata": {},
   "outputs": [
    {
     "name": "stdout",
     "output_type": "stream",
     "text": [
      "Na palavra \"professor\", as vogais são: o, e, o\n",
      "Na palavra \"aluno\", as vogais são: a, u, o\n",
      "Na palavra \"livro\", as vogais são: i, o\n",
      "Na palavra \"caderno\", as vogais são: a, e, o\n",
      "Na palavra \"quadro\", as vogais são: u, a, o\n",
      "Na palavra \"lousa\", as vogais são: o, u, a\n",
      "Na palavra \"caneta\", as vogais são: a, e, a\n",
      "Na palavra \"aula\", as vogais são: a, u, a\n"
     ]
    }
   ],
   "source": [
    "\n",
    "#077 - Contando vogais em tupla\n",
    "\n",
    "palavras = ('professor', 'aluno', 'livro', 'caderno', 'quadro', 'lousa', 'caneta', 'aula')\n",
    "\n",
    "for palavra in palavras:\n",
    "    vogais = []\n",
    "    for letra in palavra:\n",
    "        if letra in 'aeiou':\n",
    "            vogais.append(letra)\n",
    "    print(f'Na palavra \"{palavra}\", as vogais são: {\", \".join(vogais)}')\n",
    "\n",
    "# Ou\n",
    "# for palavra in palavras:\n",
    "#     vogais = [letra for letra in palavra if letra in 'aeiou']\n",
    "#     print(f'Na palavra \"{palavra}\", as vogais são: {\", \".join(vogais)}')"
   ]
  }
 ],
 "metadata": {
  "kernelspec": {
   "display_name": "venv",
   "language": "python",
   "name": "python3"
  },
  "language_info": {
   "codemirror_mode": {
    "name": "ipython",
    "version": 3
   },
   "file_extension": ".py",
   "mimetype": "text/x-python",
   "name": "python",
   "nbconvert_exporter": "python",
   "pygments_lexer": "ipython3",
   "version": "3.11.4"
  }
 },
 "nbformat": 4,
 "nbformat_minor": 5
}
